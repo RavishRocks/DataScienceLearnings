{
 "cells": [
  {
   "cell_type": "code",
   "execution_count": 1,
   "metadata": {},
   "outputs": [],
   "source": [
    "#ML-NA-Day2-D29092020 and Day3-D30092020"
   ]
  },
  {
   "cell_type": "code",
   "execution_count": 2,
   "metadata": {},
   "outputs": [],
   "source": [
    "import numpy as np\n",
    "from matplotlib import pyplot as plt\n"
   ]
  },
  {
   "cell_type": "code",
   "execution_count": 3,
   "metadata": {},
   "outputs": [],
   "source": [
    "X=np.array([[1,0],[1,1],[1,3]])"
   ]
  },
  {
   "cell_type": "code",
   "execution_count": 4,
   "metadata": {},
   "outputs": [
    {
     "data": {
      "text/plain": [
       "array([[1, 0],\n",
       "       [1, 1],\n",
       "       [1, 3]])"
      ]
     },
     "execution_count": 4,
     "metadata": {},
     "output_type": "execute_result"
    }
   ],
   "source": [
    "X"
   ]
  },
  {
   "cell_type": "code",
   "execution_count": 5,
   "metadata": {},
   "outputs": [],
   "source": [
    "Y=np.array([1,2,2])"
   ]
  },
  {
   "cell_type": "code",
   "execution_count": 6,
   "metadata": {},
   "outputs": [
    {
     "data": {
      "text/plain": [
       "array([1, 2, 2])"
      ]
     },
     "execution_count": 6,
     "metadata": {},
     "output_type": "execute_result"
    }
   ],
   "source": [
    "Y"
   ]
  },
  {
   "cell_type": "code",
   "execution_count": 7,
   "metadata": {},
   "outputs": [],
   "source": [
    "#inv(XTX) XTY"
   ]
  },
  {
   "cell_type": "code",
   "execution_count": 8,
   "metadata": {},
   "outputs": [],
   "source": [
    "XTX = np.dot((X.T),X)"
   ]
  },
  {
   "cell_type": "code",
   "execution_count": 9,
   "metadata": {},
   "outputs": [
    {
     "data": {
      "text/plain": [
       "array([[ 3,  4],\n",
       "       [ 4, 10]])"
      ]
     },
     "execution_count": 9,
     "metadata": {},
     "output_type": "execute_result"
    }
   ],
   "source": [
    "XTX"
   ]
  },
  {
   "cell_type": "code",
   "execution_count": 10,
   "metadata": {},
   "outputs": [
    {
     "data": {
      "text/plain": [
       "array([[ 0.71428571, -0.28571429],\n",
       "       [-0.28571429,  0.21428571]])"
      ]
     },
     "execution_count": 10,
     "metadata": {},
     "output_type": "execute_result"
    }
   ],
   "source": [
    "np.linalg.inv(XTX)"
   ]
  },
  {
   "cell_type": "code",
   "execution_count": 11,
   "metadata": {},
   "outputs": [],
   "source": [
    "XTY=np.dot(X.T,Y)"
   ]
  },
  {
   "cell_type": "code",
   "execution_count": 12,
   "metadata": {},
   "outputs": [
    {
     "data": {
      "text/plain": [
       "array([5, 8])"
      ]
     },
     "execution_count": 12,
     "metadata": {},
     "output_type": "execute_result"
    }
   ],
   "source": [
    "XTY"
   ]
  },
  {
   "cell_type": "code",
   "execution_count": 13,
   "metadata": {},
   "outputs": [],
   "source": [
    "theta=np.dot(np.linalg.inv(XTX),XTY)"
   ]
  },
  {
   "cell_type": "code",
   "execution_count": 14,
   "metadata": {},
   "outputs": [
    {
     "data": {
      "text/plain": [
       "array([1.28571429, 0.28571429])"
      ]
     },
     "execution_count": 14,
     "metadata": {},
     "output_type": "execute_result"
    }
   ],
   "source": [
    "theta"
   ]
  },
  {
   "cell_type": "code",
   "execution_count": 15,
   "metadata": {},
   "outputs": [
    {
     "data": {
      "image/png": "[encoded data removed]",
      "text/plain": [
       "<Figure size 432x288 with 1 Axes>"
      ]
     },
     "metadata": {
      "needs_background": "light"
     },
     "output_type": "display_data"
    }
   ],
   "source": [
    "plt.scatter(X[:,1],Y)\n",
    "plt.grid()\n",
    "plt.show()"
   ]
  },
  {
   "cell_type": "code",
   "execution_count": 16,
   "metadata": {},
   "outputs": [],
   "source": [
    "predict = np.dot(X,theta)"
   ]
  },
  {
   "cell_type": "code",
   "execution_count": 17,
   "metadata": {},
   "outputs": [
    {
     "data": {
      "text/plain": [
       "array([1.28571429, 1.57142857, 2.14285714])"
      ]
     },
     "execution_count": 17,
     "metadata": {},
     "output_type": "execute_result"
    }
   ],
   "source": [
    "predict"
   ]
  },
  {
   "cell_type": "code",
   "execution_count": 18,
   "metadata": {},
   "outputs": [
    {
     "data": {
      "image/png": "[encoded data removed]",
      "text/plain": [
       "<Figure size 432x288 with 1 Axes>"
      ]
     },
     "metadata": {
      "needs_background": "light"
     },
     "output_type": "display_data"
    }
   ],
   "source": [
    "plt.plot(X[:,1],predict,marker='o',c='red',label='regression line')\n",
    "plt.scatter(X[:,1],Y,label='datapoint')\n",
    "plt.grid()\n",
    "plt.legend(loc='best')\n",
    "plt.plot([X[:,1][0],X[:,1][0]],[predict[0],Y[0]],c='g',linestyle='-.')\n",
    "plt.plot([X[:,1][1],X[:,1][1]],[predict[1],Y[1]],c='g',linestyle='-.')\n",
    "plt.plot([X[:,1][2],X[:,1][2]],[predict[2],Y[2]],c='g',linestyle='-.')\n",
    "plt.show()"
   ]
  },
  {
   "cell_type": "code",
   "execution_count": 19,
   "metadata": {},
   "outputs": [],
   "source": [
    "X=np.array([[5,6,8],[2,4,9],[9,7,3],[8,4,9]])\n"
   ]
  },
  {
   "cell_type": "code",
   "execution_count": 20,
   "metadata": {},
   "outputs": [
    {
     "data": {
      "text/plain": [
       "array([[5, 6, 8],\n",
       "       [2, 4, 9],\n",
       "       [9, 7, 3],\n",
       "       [8, 4, 9]])"
      ]
     },
     "execution_count": 20,
     "metadata": {},
     "output_type": "execute_result"
    }
   ],
   "source": [
    "X"
   ]
  },
  {
   "cell_type": "code",
   "execution_count": 21,
   "metadata": {},
   "outputs": [
    {
     "data": {
      "text/plain": [
       "array([[5, 6, 8],\n",
       "       [2, 4, 9],\n",
       "       [9, 7, 3],\n",
       "       [8, 4, 9]])"
      ]
     },
     "execution_count": 21,
     "metadata": {},
     "output_type": "execute_result"
    }
   ],
   "source": [
    "X"
   ]
  },
  {
   "cell_type": "code",
   "execution_count": 22,
   "metadata": {},
   "outputs": [],
   "source": [
    "idx_1 = np.random.choice(range(X.shape[0]),3,replace=False)\n"
   ]
  },
  {
   "cell_type": "code",
   "execution_count": 23,
   "metadata": {},
   "outputs": [
    {
     "data": {
      "text/plain": [
       "array([1, 2, 0])"
      ]
     },
     "execution_count": 23,
     "metadata": {},
     "output_type": "execute_result"
    }
   ],
   "source": [
    "idx_1"
   ]
  },
  {
   "cell_type": "code",
   "execution_count": 24,
   "metadata": {},
   "outputs": [],
   "source": [
    "idx_2=np.setdiff1d(np.arange(0,X.shape[0]),idx_1)"
   ]
  },
  {
   "cell_type": "code",
   "execution_count": 25,
   "metadata": {},
   "outputs": [
    {
     "data": {
      "text/plain": [
       "array([3])"
      ]
     },
     "execution_count": 25,
     "metadata": {},
     "output_type": "execute_result"
    }
   ],
   "source": [
    "idx_2"
   ]
  },
  {
   "cell_type": "code",
   "execution_count": 26,
   "metadata": {},
   "outputs": [],
   "source": [
    "X1=X[idx_1,:]\n",
    "X2=X[idx_2,:]"
   ]
  },
  {
   "cell_type": "code",
   "execution_count": 27,
   "metadata": {},
   "outputs": [
    {
     "data": {
      "text/plain": [
       "array([[2, 4, 9],\n",
       "       [9, 7, 3],\n",
       "       [5, 6, 8]])"
      ]
     },
     "execution_count": 27,
     "metadata": {},
     "output_type": "execute_result"
    }
   ],
   "source": [
    "X1"
   ]
  },
  {
   "cell_type": "code",
   "execution_count": 28,
   "metadata": {},
   "outputs": [
    {
     "data": {
      "text/plain": [
       "array([[8, 4, 9]])"
      ]
     },
     "execution_count": 28,
     "metadata": {},
     "output_type": "execute_result"
    }
   ],
   "source": [
    "X2"
   ]
  },
  {
   "cell_type": "code",
   "execution_count": null,
   "metadata": {},
   "outputs": [],
   "source": [
    "#Day3 - D30092020"
   ]
  },
  {
   "cell_type": "code",
   "execution_count": 29,
   "metadata": {},
   "outputs": [],
   "source": [
    "import pandas as pd"
   ]
  },
  {
   "cell_type": "code",
   "execution_count": 30,
   "metadata": {},
   "outputs": [],
   "source": [
    "data=pd.read_csv('test_data_housing.txt')"
   ]
  },
  {
   "cell_type": "code",
   "execution_count": 31,
   "metadata": {},
   "outputs": [
    {
     "data": {
      "text/html": [
       "<div>\n",
       "<style scoped>\n",
       "    .dataframe tbody tr th:only-of-type {\n",
       "        vertical-align: middle;\n",
       "    }\n",
       "\n",
       "    .dataframe tbody tr th {\n",
       "        vertical-align: top;\n",
       "    }\n",
       "\n",
       "    .dataframe thead th {\n",
       "        text-align: right;\n",
       "    }\n",
       "</style>\n",
       "<table border=\"1\" class=\"dataframe\">\n",
       "  <thead>\n",
       "    <tr style=\"text-align: right;\">\n",
       "      <th></th>\n",
       "      <th>price</th>\n",
       "      <th>lotsize</th>\n",
       "      <th>bedrooms</th>\n",
       "      <th>bathrms</th>\n",
       "      <th>stories</th>\n",
       "      <th>driveway</th>\n",
       "      <th>recroom</th>\n",
       "      <th>fullbase</th>\n",
       "      <th>gashw</th>\n",
       "      <th>airco</th>\n",
       "      <th>garagepl</th>\n",
       "      <th>prefarea</th>\n",
       "    </tr>\n",
       "  </thead>\n",
       "  <tbody>\n",
       "    <tr>\n",
       "      <th>0</th>\n",
       "      <td>42000.0</td>\n",
       "      <td>5850</td>\n",
       "      <td>3</td>\n",
       "      <td>1</td>\n",
       "      <td>two</td>\n",
       "      <td>yes</td>\n",
       "      <td>no</td>\n",
       "      <td>yes</td>\n",
       "      <td>no</td>\n",
       "      <td>no</td>\n",
       "      <td>1</td>\n",
       "      <td>no</td>\n",
       "    </tr>\n",
       "    <tr>\n",
       "      <th>1</th>\n",
       "      <td>38500.0</td>\n",
       "      <td>4000</td>\n",
       "      <td>2</td>\n",
       "      <td>1</td>\n",
       "      <td>one</td>\n",
       "      <td>yes</td>\n",
       "      <td>no</td>\n",
       "      <td>no</td>\n",
       "      <td>no</td>\n",
       "      <td>no</td>\n",
       "      <td>0</td>\n",
       "      <td>no</td>\n",
       "    </tr>\n",
       "    <tr>\n",
       "      <th>2</th>\n",
       "      <td>49500.0</td>\n",
       "      <td>3060</td>\n",
       "      <td>3</td>\n",
       "      <td>1</td>\n",
       "      <td>one</td>\n",
       "      <td>yes</td>\n",
       "      <td>no</td>\n",
       "      <td>no</td>\n",
       "      <td>no</td>\n",
       "      <td>no</td>\n",
       "      <td>0</td>\n",
       "      <td>no</td>\n",
       "    </tr>\n",
       "    <tr>\n",
       "      <th>3</th>\n",
       "      <td>60500.0</td>\n",
       "      <td>6650</td>\n",
       "      <td>3</td>\n",
       "      <td>1</td>\n",
       "      <td>two</td>\n",
       "      <td>yes</td>\n",
       "      <td>yes</td>\n",
       "      <td>no</td>\n",
       "      <td>no</td>\n",
       "      <td>no</td>\n",
       "      <td>0</td>\n",
       "      <td>no</td>\n",
       "    </tr>\n",
       "    <tr>\n",
       "      <th>4</th>\n",
       "      <td>61000.0</td>\n",
       "      <td>6360</td>\n",
       "      <td>2</td>\n",
       "      <td>1</td>\n",
       "      <td>one</td>\n",
       "      <td>yes</td>\n",
       "      <td>no</td>\n",
       "      <td>no</td>\n",
       "      <td>no</td>\n",
       "      <td>no</td>\n",
       "      <td>0</td>\n",
       "      <td>no</td>\n",
       "    </tr>\n",
       "    <tr>\n",
       "      <th>...</th>\n",
       "      <td>...</td>\n",
       "      <td>...</td>\n",
       "      <td>...</td>\n",
       "      <td>...</td>\n",
       "      <td>...</td>\n",
       "      <td>...</td>\n",
       "      <td>...</td>\n",
       "      <td>...</td>\n",
       "      <td>...</td>\n",
       "      <td>...</td>\n",
       "      <td>...</td>\n",
       "      <td>...</td>\n",
       "    </tr>\n",
       "    <tr>\n",
       "      <th>541</th>\n",
       "      <td>91500.0</td>\n",
       "      <td>4800</td>\n",
       "      <td>3</td>\n",
       "      <td>2</td>\n",
       "      <td>four</td>\n",
       "      <td>yes</td>\n",
       "      <td>yes</td>\n",
       "      <td>no</td>\n",
       "      <td>no</td>\n",
       "      <td>yes</td>\n",
       "      <td>0</td>\n",
       "      <td>no</td>\n",
       "    </tr>\n",
       "    <tr>\n",
       "      <th>542</th>\n",
       "      <td>94000.0</td>\n",
       "      <td>6000</td>\n",
       "      <td>3</td>\n",
       "      <td>2</td>\n",
       "      <td>four</td>\n",
       "      <td>yes</td>\n",
       "      <td>no</td>\n",
       "      <td>no</td>\n",
       "      <td>no</td>\n",
       "      <td>yes</td>\n",
       "      <td>0</td>\n",
       "      <td>no</td>\n",
       "    </tr>\n",
       "    <tr>\n",
       "      <th>543</th>\n",
       "      <td>103000.0</td>\n",
       "      <td>6000</td>\n",
       "      <td>3</td>\n",
       "      <td>2</td>\n",
       "      <td>four</td>\n",
       "      <td>yes</td>\n",
       "      <td>yes</td>\n",
       "      <td>no</td>\n",
       "      <td>no</td>\n",
       "      <td>yes</td>\n",
       "      <td>1</td>\n",
       "      <td>no</td>\n",
       "    </tr>\n",
       "    <tr>\n",
       "      <th>544</th>\n",
       "      <td>105000.0</td>\n",
       "      <td>6000</td>\n",
       "      <td>3</td>\n",
       "      <td>2</td>\n",
       "      <td>two</td>\n",
       "      <td>yes</td>\n",
       "      <td>yes</td>\n",
       "      <td>no</td>\n",
       "      <td>no</td>\n",
       "      <td>yes</td>\n",
       "      <td>1</td>\n",
       "      <td>no</td>\n",
       "    </tr>\n",
       "    <tr>\n",
       "      <th>545</th>\n",
       "      <td>105000.0</td>\n",
       "      <td>6000</td>\n",
       "      <td>3</td>\n",
       "      <td>1</td>\n",
       "      <td>two</td>\n",
       "      <td>yes</td>\n",
       "      <td>no</td>\n",
       "      <td>no</td>\n",
       "      <td>no</td>\n",
       "      <td>yes</td>\n",
       "      <td>1</td>\n",
       "      <td>no</td>\n",
       "    </tr>\n",
       "  </tbody>\n",
       "</table>\n",
       "<p>546 rows × 12 columns</p>\n",
       "</div>"
      ],
      "text/plain": [
       "        price  lotsize  bedrooms  bathrms stories driveway recroom fullbase  \\\n",
       "0     42000.0     5850         3        1     two      yes      no      yes   \n",
       "1     38500.0     4000         2        1     one      yes      no       no   \n",
       "2     49500.0     3060         3        1     one      yes      no       no   \n",
       "3     60500.0     6650         3        1     two      yes     yes       no   \n",
       "4     61000.0     6360         2        1     one      yes      no       no   \n",
       "..        ...      ...       ...      ...     ...      ...     ...      ...   \n",
       "541   91500.0     4800         3        2    four      yes     yes       no   \n",
       "542   94000.0     6000         3        2    four      yes      no       no   \n",
       "543  103000.0     6000         3        2    four      yes     yes       no   \n",
       "544  105000.0     6000         3        2     two      yes     yes       no   \n",
       "545  105000.0     6000         3        1     two      yes      no       no   \n",
       "\n",
       "    gashw airco  garagepl prefarea  \n",
       "0      no    no         1       no  \n",
       "1      no    no         0       no  \n",
       "2      no    no         0       no  \n",
       "3      no    no         0       no  \n",
       "4      no    no         0       no  \n",
       "..    ...   ...       ...      ...  \n",
       "541    no   yes         0       no  \n",
       "542    no   yes         0       no  \n",
       "543    no   yes         1       no  \n",
       "544    no   yes         1       no  \n",
       "545    no   yes         1       no  \n",
       "\n",
       "[546 rows x 12 columns]"
      ]
     },
     "execution_count": 31,
     "metadata": {},
     "output_type": "execute_result"
    }
   ],
   "source": [
    "data"
   ]
  },
  {
   "cell_type": "code",
   "execution_count": 32,
   "metadata": {},
   "outputs": [],
   "source": [
    "df=data.copy()"
   ]
  },
  {
   "cell_type": "code",
   "execution_count": 34,
   "metadata": {},
   "outputs": [
    {
     "data": {
      "text/html": [
       "<div>\n",
       "<style scoped>\n",
       "    .dataframe tbody tr th:only-of-type {\n",
       "        vertical-align: middle;\n",
       "    }\n",
       "\n",
       "    .dataframe tbody tr th {\n",
       "        vertical-align: top;\n",
       "    }\n",
       "\n",
       "    .dataframe thead th {\n",
       "        text-align: right;\n",
       "    }\n",
       "</style>\n",
       "<table border=\"1\" class=\"dataframe\">\n",
       "  <thead>\n",
       "    <tr style=\"text-align: right;\">\n",
       "      <th></th>\n",
       "      <th>price</th>\n",
       "      <th>lotsize</th>\n",
       "      <th>bedrooms</th>\n",
       "      <th>bathrms</th>\n",
       "      <th>stories</th>\n",
       "      <th>driveway</th>\n",
       "      <th>recroom</th>\n",
       "      <th>fullbase</th>\n",
       "      <th>gashw</th>\n",
       "      <th>airco</th>\n",
       "      <th>garagepl</th>\n",
       "      <th>prefarea</th>\n",
       "    </tr>\n",
       "  </thead>\n",
       "  <tbody>\n",
       "    <tr>\n",
       "      <th>541</th>\n",
       "      <td>91500.0</td>\n",
       "      <td>4800</td>\n",
       "      <td>3</td>\n",
       "      <td>2</td>\n",
       "      <td>four</td>\n",
       "      <td>yes</td>\n",
       "      <td>yes</td>\n",
       "      <td>no</td>\n",
       "      <td>no</td>\n",
       "      <td>yes</td>\n",
       "      <td>0</td>\n",
       "      <td>no</td>\n",
       "    </tr>\n",
       "    <tr>\n",
       "      <th>542</th>\n",
       "      <td>94000.0</td>\n",
       "      <td>6000</td>\n",
       "      <td>3</td>\n",
       "      <td>2</td>\n",
       "      <td>four</td>\n",
       "      <td>yes</td>\n",
       "      <td>no</td>\n",
       "      <td>no</td>\n",
       "      <td>no</td>\n",
       "      <td>yes</td>\n",
       "      <td>0</td>\n",
       "      <td>no</td>\n",
       "    </tr>\n",
       "    <tr>\n",
       "      <th>543</th>\n",
       "      <td>103000.0</td>\n",
       "      <td>6000</td>\n",
       "      <td>3</td>\n",
       "      <td>2</td>\n",
       "      <td>four</td>\n",
       "      <td>yes</td>\n",
       "      <td>yes</td>\n",
       "      <td>no</td>\n",
       "      <td>no</td>\n",
       "      <td>yes</td>\n",
       "      <td>1</td>\n",
       "      <td>no</td>\n",
       "    </tr>\n",
       "    <tr>\n",
       "      <th>544</th>\n",
       "      <td>105000.0</td>\n",
       "      <td>6000</td>\n",
       "      <td>3</td>\n",
       "      <td>2</td>\n",
       "      <td>two</td>\n",
       "      <td>yes</td>\n",
       "      <td>yes</td>\n",
       "      <td>no</td>\n",
       "      <td>no</td>\n",
       "      <td>yes</td>\n",
       "      <td>1</td>\n",
       "      <td>no</td>\n",
       "    </tr>\n",
       "    <tr>\n",
       "      <th>545</th>\n",
       "      <td>105000.0</td>\n",
       "      <td>6000</td>\n",
       "      <td>3</td>\n",
       "      <td>1</td>\n",
       "      <td>two</td>\n",
       "      <td>yes</td>\n",
       "      <td>no</td>\n",
       "      <td>no</td>\n",
       "      <td>no</td>\n",
       "      <td>yes</td>\n",
       "      <td>1</td>\n",
       "      <td>no</td>\n",
       "    </tr>\n",
       "  </tbody>\n",
       "</table>\n",
       "</div>"
      ],
      "text/plain": [
       "        price  lotsize  bedrooms  bathrms stories driveway recroom fullbase  \\\n",
       "541   91500.0     4800         3        2    four      yes     yes       no   \n",
       "542   94000.0     6000         3        2    four      yes      no       no   \n",
       "543  103000.0     6000         3        2    four      yes     yes       no   \n",
       "544  105000.0     6000         3        2     two      yes     yes       no   \n",
       "545  105000.0     6000         3        1     two      yes      no       no   \n",
       "\n",
       "    gashw airco  garagepl prefarea  \n",
       "541    no   yes         0       no  \n",
       "542    no   yes         0       no  \n",
       "543    no   yes         1       no  \n",
       "544    no   yes         1       no  \n",
       "545    no   yes         1       no  "
      ]
     },
     "execution_count": 34,
     "metadata": {},
     "output_type": "execute_result"
    }
   ],
   "source": [
    "df.tail()"
   ]
  },
  {
   "cell_type": "code",
   "execution_count": 36,
   "metadata": {},
   "outputs": [
    {
     "data": {
      "text/plain": [
       "(546, 12)"
      ]
     },
     "execution_count": 36,
     "metadata": {},
     "output_type": "execute_result"
    }
   ],
   "source": [
    "df.shape"
   ]
  },
  {
   "cell_type": "code",
   "execution_count": 37,
   "metadata": {},
   "outputs": [],
   "source": [
    "#no of record\n",
    "m=df.shape[0]"
   ]
  },
  {
   "cell_type": "code",
   "execution_count": 41,
   "metadata": {},
   "outputs": [],
   "source": [
    "train_size = 0.8\n",
    "train_count = int(train_size *m)\n",
    "test_count = m - train_count"
   ]
  },
  {
   "cell_type": "code",
   "execution_count": 44,
   "metadata": {},
   "outputs": [],
   "source": [
    "df_shuffled=df.sample(m)"
   ]
  },
  {
   "cell_type": "code",
   "execution_count": 46,
   "metadata": {},
   "outputs": [],
   "source": [
    "df_train=df_shuffled.iloc[:train_count,:]\n",
    "df_test =df_shuffled.iloc[train_count:,:]"
   ]
  },
  {
   "cell_type": "code",
   "execution_count": 48,
   "metadata": {},
   "outputs": [
    {
     "data": {
      "text/plain": [
       "(436, 12)"
      ]
     },
     "execution_count": 48,
     "metadata": {},
     "output_type": "execute_result"
    }
   ],
   "source": [
    "df_train.shape"
   ]
  },
  {
   "cell_type": "code",
   "execution_count": 49,
   "metadata": {},
   "outputs": [
    {
     "data": {
      "text/plain": [
       "(110, 12)"
      ]
     },
     "execution_count": 49,
     "metadata": {},
     "output_type": "execute_result"
    }
   ],
   "source": [
    "df_test.shape"
   ]
  },
  {
   "cell_type": "code",
   "execution_count": 50,
   "metadata": {},
   "outputs": [
    {
     "data": {
      "text/plain": [
       "['lotsize',\n",
       " 'bedrooms',\n",
       " 'bathrms',\n",
       " 'driveway',\n",
       " 'recroom',\n",
       " 'fullbase',\n",
       " 'gashw',\n",
       " 'airco',\n",
       " 'garagepl',\n",
       " 'prefarea',\n",
       " 'stories_four',\n",
       " 'stories_one',\n",
       " 'stories_three',\n",
       " 'stories_two']"
      ]
     },
     "execution_count": 50,
     "metadata": {},
     "output_type": "execute_result"
    }
   ],
   "source": [
    "df.columns\n",
    "df.driveway=pd.get_dummies(df.driveway)\n",
    "df.recroom=pd.get_dummies(df.recroom)\n",
    "df.fullbase=pd.get_dummies(df.fullbase)\n",
    "df.gashw=pd.get_dummies(df.gashw)\n",
    "df.airco=pd.get_dummies(df.airco)\n",
    "df.prefarea=pd.get_dummies(df.prefarea)\n",
    "\n",
    "# Check if all the categorical variables are converted to dummies\n",
    "df\n",
    "stories_category=pd.get_dummies(df.stories,prefix='stories')\n",
    "stories_category\n",
    "\n",
    "# Concatenate the stories categorical columns at the right of the dataframe\n",
    "df=pd.concat([df,stories_category],axis=1)\n",
    "df.drop('stories',axis=1,inplace=True)\n",
    "df.columns\n",
    "df\n",
    "feature=list(df.columns[1:])\n",
    "feature"
   ]
  },
  {
   "cell_type": "code",
   "execution_count": 51,
   "metadata": {},
   "outputs": [
    {
     "data": {
      "text/html": [
       "<div>\n",
       "<style scoped>\n",
       "    .dataframe tbody tr th:only-of-type {\n",
       "        vertical-align: middle;\n",
       "    }\n",
       "\n",
       "    .dataframe tbody tr th {\n",
       "        vertical-align: top;\n",
       "    }\n",
       "\n",
       "    .dataframe thead th {\n",
       "        text-align: right;\n",
       "    }\n",
       "</style>\n",
       "<table border=\"1\" class=\"dataframe\">\n",
       "  <thead>\n",
       "    <tr style=\"text-align: right;\">\n",
       "      <th></th>\n",
       "      <th>price</th>\n",
       "      <th>lotsize</th>\n",
       "      <th>bedrooms</th>\n",
       "      <th>bathrms</th>\n",
       "      <th>driveway</th>\n",
       "      <th>recroom</th>\n",
       "      <th>fullbase</th>\n",
       "      <th>gashw</th>\n",
       "      <th>airco</th>\n",
       "      <th>garagepl</th>\n",
       "      <th>prefarea</th>\n",
       "      <th>stories_four</th>\n",
       "      <th>stories_one</th>\n",
       "      <th>stories_three</th>\n",
       "      <th>stories_two</th>\n",
       "    </tr>\n",
       "  </thead>\n",
       "  <tbody>\n",
       "    <tr>\n",
       "      <th>0</th>\n",
       "      <td>42000.0</td>\n",
       "      <td>5850</td>\n",
       "      <td>3</td>\n",
       "      <td>1</td>\n",
       "      <td>0</td>\n",
       "      <td>1</td>\n",
       "      <td>0</td>\n",
       "      <td>1</td>\n",
       "      <td>1</td>\n",
       "      <td>1</td>\n",
       "      <td>1</td>\n",
       "      <td>0</td>\n",
       "      <td>0</td>\n",
       "      <td>0</td>\n",
       "      <td>1</td>\n",
       "    </tr>\n",
       "    <tr>\n",
       "      <th>1</th>\n",
       "      <td>38500.0</td>\n",
       "      <td>4000</td>\n",
       "      <td>2</td>\n",
       "      <td>1</td>\n",
       "      <td>0</td>\n",
       "      <td>1</td>\n",
       "      <td>1</td>\n",
       "      <td>1</td>\n",
       "      <td>1</td>\n",
       "      <td>0</td>\n",
       "      <td>1</td>\n",
       "      <td>0</td>\n",
       "      <td>1</td>\n",
       "      <td>0</td>\n",
       "      <td>0</td>\n",
       "    </tr>\n",
       "    <tr>\n",
       "      <th>2</th>\n",
       "      <td>49500.0</td>\n",
       "      <td>3060</td>\n",
       "      <td>3</td>\n",
       "      <td>1</td>\n",
       "      <td>0</td>\n",
       "      <td>1</td>\n",
       "      <td>1</td>\n",
       "      <td>1</td>\n",
       "      <td>1</td>\n",
       "      <td>0</td>\n",
       "      <td>1</td>\n",
       "      <td>0</td>\n",
       "      <td>1</td>\n",
       "      <td>0</td>\n",
       "      <td>0</td>\n",
       "    </tr>\n",
       "    <tr>\n",
       "      <th>3</th>\n",
       "      <td>60500.0</td>\n",
       "      <td>6650</td>\n",
       "      <td>3</td>\n",
       "      <td>1</td>\n",
       "      <td>0</td>\n",
       "      <td>0</td>\n",
       "      <td>1</td>\n",
       "      <td>1</td>\n",
       "      <td>1</td>\n",
       "      <td>0</td>\n",
       "      <td>1</td>\n",
       "      <td>0</td>\n",
       "      <td>0</td>\n",
       "      <td>0</td>\n",
       "      <td>1</td>\n",
       "    </tr>\n",
       "    <tr>\n",
       "      <th>4</th>\n",
       "      <td>61000.0</td>\n",
       "      <td>6360</td>\n",
       "      <td>2</td>\n",
       "      <td>1</td>\n",
       "      <td>0</td>\n",
       "      <td>1</td>\n",
       "      <td>1</td>\n",
       "      <td>1</td>\n",
       "      <td>1</td>\n",
       "      <td>0</td>\n",
       "      <td>1</td>\n",
       "      <td>0</td>\n",
       "      <td>1</td>\n",
       "      <td>0</td>\n",
       "      <td>0</td>\n",
       "    </tr>\n",
       "    <tr>\n",
       "      <th>...</th>\n",
       "      <td>...</td>\n",
       "      <td>...</td>\n",
       "      <td>...</td>\n",
       "      <td>...</td>\n",
       "      <td>...</td>\n",
       "      <td>...</td>\n",
       "      <td>...</td>\n",
       "      <td>...</td>\n",
       "      <td>...</td>\n",
       "      <td>...</td>\n",
       "      <td>...</td>\n",
       "      <td>...</td>\n",
       "      <td>...</td>\n",
       "      <td>...</td>\n",
       "      <td>...</td>\n",
       "    </tr>\n",
       "    <tr>\n",
       "      <th>541</th>\n",
       "      <td>91500.0</td>\n",
       "      <td>4800</td>\n",
       "      <td>3</td>\n",
       "      <td>2</td>\n",
       "      <td>0</td>\n",
       "      <td>0</td>\n",
       "      <td>1</td>\n",
       "      <td>1</td>\n",
       "      <td>0</td>\n",
       "      <td>0</td>\n",
       "      <td>1</td>\n",
       "      <td>1</td>\n",
       "      <td>0</td>\n",
       "      <td>0</td>\n",
       "      <td>0</td>\n",
       "    </tr>\n",
       "    <tr>\n",
       "      <th>542</th>\n",
       "      <td>94000.0</td>\n",
       "      <td>6000</td>\n",
       "      <td>3</td>\n",
       "      <td>2</td>\n",
       "      <td>0</td>\n",
       "      <td>1</td>\n",
       "      <td>1</td>\n",
       "      <td>1</td>\n",
       "      <td>0</td>\n",
       "      <td>0</td>\n",
       "      <td>1</td>\n",
       "      <td>1</td>\n",
       "      <td>0</td>\n",
       "      <td>0</td>\n",
       "      <td>0</td>\n",
       "    </tr>\n",
       "    <tr>\n",
       "      <th>543</th>\n",
       "      <td>103000.0</td>\n",
       "      <td>6000</td>\n",
       "      <td>3</td>\n",
       "      <td>2</td>\n",
       "      <td>0</td>\n",
       "      <td>0</td>\n",
       "      <td>1</td>\n",
       "      <td>1</td>\n",
       "      <td>0</td>\n",
       "      <td>1</td>\n",
       "      <td>1</td>\n",
       "      <td>1</td>\n",
       "      <td>0</td>\n",
       "      <td>0</td>\n",
       "      <td>0</td>\n",
       "    </tr>\n",
       "    <tr>\n",
       "      <th>544</th>\n",
       "      <td>105000.0</td>\n",
       "      <td>6000</td>\n",
       "      <td>3</td>\n",
       "      <td>2</td>\n",
       "      <td>0</td>\n",
       "      <td>0</td>\n",
       "      <td>1</td>\n",
       "      <td>1</td>\n",
       "      <td>0</td>\n",
       "      <td>1</td>\n",
       "      <td>1</td>\n",
       "      <td>0</td>\n",
       "      <td>0</td>\n",
       "      <td>0</td>\n",
       "      <td>1</td>\n",
       "    </tr>\n",
       "    <tr>\n",
       "      <th>545</th>\n",
       "      <td>105000.0</td>\n",
       "      <td>6000</td>\n",
       "      <td>3</td>\n",
       "      <td>1</td>\n",
       "      <td>0</td>\n",
       "      <td>1</td>\n",
       "      <td>1</td>\n",
       "      <td>1</td>\n",
       "      <td>0</td>\n",
       "      <td>1</td>\n",
       "      <td>1</td>\n",
       "      <td>0</td>\n",
       "      <td>0</td>\n",
       "      <td>0</td>\n",
       "      <td>1</td>\n",
       "    </tr>\n",
       "  </tbody>\n",
       "</table>\n",
       "<p>546 rows × 15 columns</p>\n",
       "</div>"
      ],
      "text/plain": [
       "        price  lotsize  bedrooms  bathrms  driveway  recroom  fullbase  gashw  \\\n",
       "0     42000.0     5850         3        1         0        1         0      1   \n",
       "1     38500.0     4000         2        1         0        1         1      1   \n",
       "2     49500.0     3060         3        1         0        1         1      1   \n",
       "3     60500.0     6650         3        1         0        0         1      1   \n",
       "4     61000.0     6360         2        1         0        1         1      1   \n",
       "..        ...      ...       ...      ...       ...      ...       ...    ...   \n",
       "541   91500.0     4800         3        2         0        0         1      1   \n",
       "542   94000.0     6000         3        2         0        1         1      1   \n",
       "543  103000.0     6000         3        2         0        0         1      1   \n",
       "544  105000.0     6000         3        2         0        0         1      1   \n",
       "545  105000.0     6000         3        1         0        1         1      1   \n",
       "\n",
       "     airco  garagepl  prefarea  stories_four  stories_one  stories_three  \\\n",
       "0        1         1         1             0            0              0   \n",
       "1        1         0         1             0            1              0   \n",
       "2        1         0         1             0            1              0   \n",
       "3        1         0         1             0            0              0   \n",
       "4        1         0         1             0            1              0   \n",
       "..     ...       ...       ...           ...          ...            ...   \n",
       "541      0         0         1             1            0              0   \n",
       "542      0         0         1             1            0              0   \n",
       "543      0         1         1             1            0              0   \n",
       "544      0         1         1             0            0              0   \n",
       "545      0         1         1             0            0              0   \n",
       "\n",
       "     stories_two  \n",
       "0              1  \n",
       "1              0  \n",
       "2              0  \n",
       "3              1  \n",
       "4              0  \n",
       "..           ...  \n",
       "541            0  \n",
       "542            0  \n",
       "543            0  \n",
       "544            1  \n",
       "545            1  \n",
       "\n",
       "[546 rows x 15 columns]"
      ]
     },
     "execution_count": 51,
     "metadata": {},
     "output_type": "execute_result"
    }
   ],
   "source": [
    "df"
   ]
  },
  {
   "cell_type": "code",
   "execution_count": 52,
   "metadata": {},
   "outputs": [],
   "source": [
    "def standardize(x):\n",
    "    std=x.std()\n",
    "    mu=x.mean()\n",
    "    out=(x-mu)/std\n",
    "    return(out,mu,std)"
   ]
  },
  {
   "cell_type": "code",
   "execution_count": 54,
   "metadata": {},
   "outputs": [],
   "source": [
    "df.price,price_mean, price_std = standardize(df.price)"
   ]
  },
  {
   "cell_type": "code",
   "execution_count": 55,
   "metadata": {},
   "outputs": [
    {
     "data": {
      "text/html": [
       "<div>\n",
       "<style scoped>\n",
       "    .dataframe tbody tr th:only-of-type {\n",
       "        vertical-align: middle;\n",
       "    }\n",
       "\n",
       "    .dataframe tbody tr th {\n",
       "        vertical-align: top;\n",
       "    }\n",
       "\n",
       "    .dataframe thead th {\n",
       "        text-align: right;\n",
       "    }\n",
       "</style>\n",
       "<table border=\"1\" class=\"dataframe\">\n",
       "  <thead>\n",
       "    <tr style=\"text-align: right;\">\n",
       "      <th></th>\n",
       "      <th>price</th>\n",
       "      <th>lotsize</th>\n",
       "      <th>bedrooms</th>\n",
       "      <th>bathrms</th>\n",
       "      <th>driveway</th>\n",
       "      <th>recroom</th>\n",
       "      <th>fullbase</th>\n",
       "      <th>gashw</th>\n",
       "      <th>airco</th>\n",
       "      <th>garagepl</th>\n",
       "      <th>prefarea</th>\n",
       "      <th>stories_four</th>\n",
       "      <th>stories_one</th>\n",
       "      <th>stories_three</th>\n",
       "      <th>stories_two</th>\n",
       "    </tr>\n",
       "  </thead>\n",
       "  <tbody>\n",
       "    <tr>\n",
       "      <th>0</th>\n",
       "      <td>-0.978239</td>\n",
       "      <td>5850</td>\n",
       "      <td>3</td>\n",
       "      <td>1</td>\n",
       "      <td>0</td>\n",
       "      <td>1</td>\n",
       "      <td>0</td>\n",
       "      <td>1</td>\n",
       "      <td>1</td>\n",
       "      <td>1</td>\n",
       "      <td>1</td>\n",
       "      <td>0</td>\n",
       "      <td>0</td>\n",
       "      <td>0</td>\n",
       "      <td>1</td>\n",
       "    </tr>\n",
       "    <tr>\n",
       "      <th>1</th>\n",
       "      <td>-1.109312</td>\n",
       "      <td>4000</td>\n",
       "      <td>2</td>\n",
       "      <td>1</td>\n",
       "      <td>0</td>\n",
       "      <td>1</td>\n",
       "      <td>1</td>\n",
       "      <td>1</td>\n",
       "      <td>1</td>\n",
       "      <td>0</td>\n",
       "      <td>1</td>\n",
       "      <td>0</td>\n",
       "      <td>1</td>\n",
       "      <td>0</td>\n",
       "      <td>0</td>\n",
       "    </tr>\n",
       "    <tr>\n",
       "      <th>2</th>\n",
       "      <td>-0.697368</td>\n",
       "      <td>3060</td>\n",
       "      <td>3</td>\n",
       "      <td>1</td>\n",
       "      <td>0</td>\n",
       "      <td>1</td>\n",
       "      <td>1</td>\n",
       "      <td>1</td>\n",
       "      <td>1</td>\n",
       "      <td>0</td>\n",
       "      <td>1</td>\n",
       "      <td>0</td>\n",
       "      <td>1</td>\n",
       "      <td>0</td>\n",
       "      <td>0</td>\n",
       "    </tr>\n",
       "    <tr>\n",
       "      <th>3</th>\n",
       "      <td>-0.285425</td>\n",
       "      <td>6650</td>\n",
       "      <td>3</td>\n",
       "      <td>1</td>\n",
       "      <td>0</td>\n",
       "      <td>0</td>\n",
       "      <td>1</td>\n",
       "      <td>1</td>\n",
       "      <td>1</td>\n",
       "      <td>0</td>\n",
       "      <td>1</td>\n",
       "      <td>0</td>\n",
       "      <td>0</td>\n",
       "      <td>0</td>\n",
       "      <td>1</td>\n",
       "    </tr>\n",
       "    <tr>\n",
       "      <th>4</th>\n",
       "      <td>-0.266700</td>\n",
       "      <td>6360</td>\n",
       "      <td>2</td>\n",
       "      <td>1</td>\n",
       "      <td>0</td>\n",
       "      <td>1</td>\n",
       "      <td>1</td>\n",
       "      <td>1</td>\n",
       "      <td>1</td>\n",
       "      <td>0</td>\n",
       "      <td>1</td>\n",
       "      <td>0</td>\n",
       "      <td>1</td>\n",
       "      <td>0</td>\n",
       "      <td>0</td>\n",
       "    </tr>\n",
       "    <tr>\n",
       "      <th>...</th>\n",
       "      <td>...</td>\n",
       "      <td>...</td>\n",
       "      <td>...</td>\n",
       "      <td>...</td>\n",
       "      <td>...</td>\n",
       "      <td>...</td>\n",
       "      <td>...</td>\n",
       "      <td>...</td>\n",
       "      <td>...</td>\n",
       "      <td>...</td>\n",
       "      <td>...</td>\n",
       "      <td>...</td>\n",
       "      <td>...</td>\n",
       "      <td>...</td>\n",
       "      <td>...</td>\n",
       "    </tr>\n",
       "    <tr>\n",
       "      <th>541</th>\n",
       "      <td>0.875508</td>\n",
       "      <td>4800</td>\n",
       "      <td>3</td>\n",
       "      <td>2</td>\n",
       "      <td>0</td>\n",
       "      <td>0</td>\n",
       "      <td>1</td>\n",
       "      <td>1</td>\n",
       "      <td>0</td>\n",
       "      <td>0</td>\n",
       "      <td>1</td>\n",
       "      <td>1</td>\n",
       "      <td>0</td>\n",
       "      <td>0</td>\n",
       "      <td>0</td>\n",
       "    </tr>\n",
       "    <tr>\n",
       "      <th>542</th>\n",
       "      <td>0.969132</td>\n",
       "      <td>6000</td>\n",
       "      <td>3</td>\n",
       "      <td>2</td>\n",
       "      <td>0</td>\n",
       "      <td>1</td>\n",
       "      <td>1</td>\n",
       "      <td>1</td>\n",
       "      <td>0</td>\n",
       "      <td>0</td>\n",
       "      <td>1</td>\n",
       "      <td>1</td>\n",
       "      <td>0</td>\n",
       "      <td>0</td>\n",
       "      <td>0</td>\n",
       "    </tr>\n",
       "    <tr>\n",
       "      <th>543</th>\n",
       "      <td>1.306177</td>\n",
       "      <td>6000</td>\n",
       "      <td>3</td>\n",
       "      <td>2</td>\n",
       "      <td>0</td>\n",
       "      <td>0</td>\n",
       "      <td>1</td>\n",
       "      <td>1</td>\n",
       "      <td>0</td>\n",
       "      <td>1</td>\n",
       "      <td>1</td>\n",
       "      <td>1</td>\n",
       "      <td>0</td>\n",
       "      <td>0</td>\n",
       "      <td>0</td>\n",
       "    </tr>\n",
       "    <tr>\n",
       "      <th>544</th>\n",
       "      <td>1.381075</td>\n",
       "      <td>6000</td>\n",
       "      <td>3</td>\n",
       "      <td>2</td>\n",
       "      <td>0</td>\n",
       "      <td>0</td>\n",
       "      <td>1</td>\n",
       "      <td>1</td>\n",
       "      <td>0</td>\n",
       "      <td>1</td>\n",
       "      <td>1</td>\n",
       "      <td>0</td>\n",
       "      <td>0</td>\n",
       "      <td>0</td>\n",
       "      <td>1</td>\n",
       "    </tr>\n",
       "    <tr>\n",
       "      <th>545</th>\n",
       "      <td>1.381075</td>\n",
       "      <td>6000</td>\n",
       "      <td>3</td>\n",
       "      <td>1</td>\n",
       "      <td>0</td>\n",
       "      <td>1</td>\n",
       "      <td>1</td>\n",
       "      <td>1</td>\n",
       "      <td>0</td>\n",
       "      <td>1</td>\n",
       "      <td>1</td>\n",
       "      <td>0</td>\n",
       "      <td>0</td>\n",
       "      <td>0</td>\n",
       "      <td>1</td>\n",
       "    </tr>\n",
       "  </tbody>\n",
       "</table>\n",
       "<p>546 rows × 15 columns</p>\n",
       "</div>"
      ],
      "text/plain": [
       "        price  lotsize  bedrooms  bathrms  driveway  recroom  fullbase  gashw  \\\n",
       "0   -0.978239     5850         3        1         0        1         0      1   \n",
       "1   -1.109312     4000         2        1         0        1         1      1   \n",
       "2   -0.697368     3060         3        1         0        1         1      1   \n",
       "3   -0.285425     6650         3        1         0        0         1      1   \n",
       "4   -0.266700     6360         2        1         0        1         1      1   \n",
       "..        ...      ...       ...      ...       ...      ...       ...    ...   \n",
       "541  0.875508     4800         3        2         0        0         1      1   \n",
       "542  0.969132     6000         3        2         0        1         1      1   \n",
       "543  1.306177     6000         3        2         0        0         1      1   \n",
       "544  1.381075     6000         3        2         0        0         1      1   \n",
       "545  1.381075     6000         3        1         0        1         1      1   \n",
       "\n",
       "     airco  garagepl  prefarea  stories_four  stories_one  stories_three  \\\n",
       "0        1         1         1             0            0              0   \n",
       "1        1         0         1             0            1              0   \n",
       "2        1         0         1             0            1              0   \n",
       "3        1         0         1             0            0              0   \n",
       "4        1         0         1             0            1              0   \n",
       "..     ...       ...       ...           ...          ...            ...   \n",
       "541      0         0         1             1            0              0   \n",
       "542      0         0         1             1            0              0   \n",
       "543      0         1         1             1            0              0   \n",
       "544      0         1         1             0            0              0   \n",
       "545      0         1         1             0            0              0   \n",
       "\n",
       "     stories_two  \n",
       "0              1  \n",
       "1              0  \n",
       "2              0  \n",
       "3              1  \n",
       "4              0  \n",
       "..           ...  \n",
       "541            0  \n",
       "542            0  \n",
       "543            0  \n",
       "544            1  \n",
       "545            1  \n",
       "\n",
       "[546 rows x 15 columns]"
      ]
     },
     "execution_count": 55,
     "metadata": {},
     "output_type": "execute_result"
    }
   ],
   "source": [
    "df"
   ]
  },
  {
   "cell_type": "code",
   "execution_count": 57,
   "metadata": {},
   "outputs": [
    {
     "data": {
      "text/plain": [
       "<matplotlib.axes._subplots.AxesSubplot at 0x167ed5d3dc8>"
      ]
     },
     "execution_count": 57,
     "metadata": {},
     "output_type": "execute_result"
    },
    {
     "data": {
      "image/png": "[encoded data removed]",
      "text/plain": [
       "<Figure size 432x288 with 1 Axes>"
      ]
     },
     "metadata": {
      "needs_background": "light"
     },
     "output_type": "display_data"
    }
   ],
   "source": [
    "#df.price.hist()\n",
    "df.price.hist(density=True)"
   ]
  },
  {
   "cell_type": "code",
   "execution_count": 59,
   "metadata": {},
   "outputs": [],
   "source": [
    "df.lotsize, lotsize_mean, lotsize_std=standardize(df.lotsize)"
   ]
  },
  {
   "cell_type": "code",
   "execution_count": 61,
   "metadata": {},
   "outputs": [
    {
     "data": {
      "text/plain": [
       "<matplotlib.axes._subplots.AxesSubplot at 0x167e93f8248>"
      ]
     },
     "execution_count": 61,
     "metadata": {},
     "output_type": "execute_result"
    },
    {
     "data": {
      "image/png": "[encoded data removed]",
      "text/plain": [
       "<Figure size 432x288 with 1 Axes>"
      ]
     },
     "metadata": {
      "needs_background": "light"
     },
     "output_type": "display_data"
    }
   ],
   "source": [
    "df.lotsize.hist(density=True)"
   ]
  },
  {
   "cell_type": "code",
   "execution_count": 64,
   "metadata": {},
   "outputs": [],
   "source": [
    "X=df[feature]"
   ]
  },
  {
   "cell_type": "code",
   "execution_count": 67,
   "metadata": {},
   "outputs": [],
   "source": [
    "y=df.price"
   ]
  },
  {
   "cell_type": "code",
   "execution_count": 68,
   "metadata": {},
   "outputs": [
    {
     "data": {
      "text/plain": [
       "0     -0.978239\n",
       "1     -1.109312\n",
       "2     -0.697368\n",
       "3     -0.285425\n",
       "4     -0.266700\n",
       "         ...   \n",
       "541    0.875508\n",
       "542    0.969132\n",
       "543    1.306177\n",
       "544    1.381075\n",
       "545    1.381075\n",
       "Name: price, Length: 546, dtype: float64"
      ]
     },
     "execution_count": 68,
     "metadata": {},
     "output_type": "execute_result"
    }
   ],
   "source": [
    "y"
   ]
  },
  {
   "cell_type": "code",
   "execution_count": 70,
   "metadata": {},
   "outputs": [],
   "source": [
    "from sklearn.model_selection import train_test_split"
   ]
  },
  {
   "cell_type": "code",
   "execution_count": 71,
   "metadata": {},
   "outputs": [],
   "source": [
    "X=X.values"
   ]
  },
  {
   "cell_type": "code",
   "execution_count": 75,
   "metadata": {},
   "outputs": [],
   "source": [
    "y=y.values"
   ]
  },
  {
   "cell_type": "code",
   "execution_count": 76,
   "metadata": {},
   "outputs": [
    {
     "data": {
      "text/plain": [
       "(546, 14)"
      ]
     },
     "execution_count": 76,
     "metadata": {},
     "output_type": "execute_result"
    }
   ],
   "source": [
    "X.shape"
   ]
  },
  {
   "cell_type": "code",
   "execution_count": 77,
   "metadata": {},
   "outputs": [
    {
     "data": {
      "text/plain": [
       "(546,)"
      ]
     },
     "execution_count": 77,
     "metadata": {},
     "output_type": "execute_result"
    }
   ],
   "source": [
    "y.shape"
   ]
  },
  {
   "cell_type": "code",
   "execution_count": 79,
   "metadata": {},
   "outputs": [],
   "source": [
    "X_train, X_test, y_train, y_test = train_test_split(X,y,train_size=0.8,random_state=123)"
   ]
  },
  {
   "cell_type": "code",
   "execution_count": 80,
   "metadata": {},
   "outputs": [
    {
     "data": {
      "text/plain": [
       "(436, 14)"
      ]
     },
     "execution_count": 80,
     "metadata": {},
     "output_type": "execute_result"
    }
   ],
   "source": [
    "X_train.shape"
   ]
  },
  {
   "cell_type": "code",
   "execution_count": 81,
   "metadata": {},
   "outputs": [
    {
     "data": {
      "text/plain": [
       "(436,)"
      ]
     },
     "execution_count": 81,
     "metadata": {},
     "output_type": "execute_result"
    }
   ],
   "source": [
    "y_train.shape"
   ]
  },
  {
   "cell_type": "code",
   "execution_count": 82,
   "metadata": {},
   "outputs": [
    {
     "data": {
      "text/plain": [
       "(110, 14)"
      ]
     },
     "execution_count": 82,
     "metadata": {},
     "output_type": "execute_result"
    }
   ],
   "source": [
    "X_test.shape"
   ]
  },
  {
   "cell_type": "code",
   "execution_count": 83,
   "metadata": {},
   "outputs": [
    {
     "data": {
      "text/plain": [
       "(110,)"
      ]
     },
     "execution_count": 83,
     "metadata": {},
     "output_type": "execute_result"
    }
   ],
   "source": [
    "y_test.shape"
   ]
  },
  {
   "cell_type": "code",
   "execution_count": 85,
   "metadata": {},
   "outputs": [],
   "source": [
    "m=X_train.shape[0]\n",
    "n=X_train.shape[1]"
   ]
  },
  {
   "cell_type": "code",
   "execution_count": 86,
   "metadata": {},
   "outputs": [
    {
     "name": "stdout",
     "output_type": "stream",
     "text": [
      "436 14\n"
     ]
    }
   ],
   "source": [
    "print(m,n)"
   ]
  },
  {
   "cell_type": "code",
   "execution_count": null,
   "metadata": {},
   "outputs": [],
   "source": [
    "y_train=np.reshape(y_train,(-1,1)) #  -1, one column"
   ]
  },
  {
   "cell_type": "code",
   "execution_count": null,
   "metadata": {},
   "outputs": [],
   "source": [
    "#Y=X*Theta + Beta\n",
    "#X = (m,n); Theta =(n,1); beta = scalar; Y=(m,1)\n",
    "#del_J/beta = ((predict - y)/m).sum()\n",
    "#del_J/theta = X.T(predict - y)/m"
   ]
  },
  {
   "cell_type": "code",
   "execution_count": 121,
   "metadata": {},
   "outputs": [],
   "source": [
    "#1\n",
    "Theta = np.zeros((n,1))\n",
    "Beta = 0"
   ]
  },
  {
   "cell_type": "code",
   "execution_count": 122,
   "metadata": {},
   "outputs": [
    {
     "data": {
      "text/plain": [
       "array([[0.],\n",
       "       [0.],\n",
       "       [0.],\n",
       "       [0.],\n",
       "       [0.],\n",
       "       [0.],\n",
       "       [0.],\n",
       "       [0.],\n",
       "       [0.],\n",
       "       [0.],\n",
       "       [0.],\n",
       "       [0.],\n",
       "       [0.],\n",
       "       [0.]])"
      ]
     },
     "execution_count": 122,
     "metadata": {},
     "output_type": "execute_result"
    }
   ],
   "source": [
    "Theta"
   ]
  },
  {
   "cell_type": "code",
   "execution_count": 123,
   "metadata": {},
   "outputs": [
    {
     "data": {
      "text/plain": [
       "0"
      ]
     },
     "execution_count": 123,
     "metadata": {},
     "output_type": "execute_result"
    }
   ],
   "source": [
    "Beta"
   ]
  },
  {
   "cell_type": "code",
   "execution_count": 124,
   "metadata": {},
   "outputs": [
    {
     "data": {
      "text/plain": [
       "(436, 1)"
      ]
     },
     "execution_count": 124,
     "metadata": {},
     "output_type": "execute_result"
    }
   ],
   "source": [
    "y_train.shape"
   ]
  },
  {
   "cell_type": "code",
   "execution_count": 125,
   "metadata": {},
   "outputs": [],
   "source": [
    "\n",
    "J_total = []\n",
    "iteration = 500\n",
    "alpha=0.1\n",
    "\n",
    "for i in range(iteration):\n",
    "    y_predict = np.dot(X_train,Theta) + Beta \n",
    "    Error  = (y_train - y_predict) # (m,1).T = (1,m) * (m,1) = Scalar \n",
    "    Error_square = np.dot(Error.T, Error)\n",
    "    J = ((Error_square)/(2*m)).squeeze()\n",
    "    J_total.append(J)\n",
    "    ##\n",
    "    Del_theta = (1/m) * np.dot(X_train.T,(y_predict - y_train))\n",
    "    Del_beta  = (1/m) *(y_predict - y_train).sum()\n",
    "    ##\n",
    "    Theta = Theta - alpha*Del_theta\n",
    "    Beta = Beta - alpha*Del_beta"
   ]
  },
  {
   "cell_type": "code",
   "execution_count": null,
   "metadata": {},
   "outputs": [],
   "source": [
    "#y = mx + c\n",
    "#y_hat = X*Theta + Beta"
   ]
  },
  {
   "cell_type": "code",
   "execution_count": 126,
   "metadata": {},
   "outputs": [
    {
     "data": {
      "text/plain": [
       "array([[ 0.27933989],\n",
       "       [ 0.14387516],\n",
       "       [ 0.50179885],\n",
       "       [-0.19792547],\n",
       "       [-0.22415831],\n",
       "       [-0.17237233],\n",
       "       [-0.27860985],\n",
       "       [-0.44073817],\n",
       "       [ 0.17309415],\n",
       "       [-0.3467854 ],\n",
       "       [ 0.39756901],\n",
       "       [-0.3087346 ],\n",
       "       [ 0.14769303],\n",
       "       [-0.12507939]])"
      ]
     },
     "execution_count": 126,
     "metadata": {},
     "output_type": "execute_result"
    }
   ],
   "source": [
    "Theta"
   ]
  },
  {
   "cell_type": "code",
   "execution_count": 127,
   "metadata": {},
   "outputs": [
    {
     "data": {
      "text/plain": [
       "0.11144804496254633"
      ]
     },
     "execution_count": 127,
     "metadata": {},
     "output_type": "execute_result"
    }
   ],
   "source": [
    "Beta"
   ]
  },
  {
   "cell_type": "code",
   "execution_count": 133,
   "metadata": {},
   "outputs": [
    {
     "data": {
      "text/plain": [
       "array(0.16916615)"
      ]
     },
     "execution_count": 133,
     "metadata": {},
     "output_type": "execute_result"
    }
   ],
   "source": [
    "J_total[-1]"
   ]
  },
  {
   "cell_type": "code",
   "execution_count": 134,
   "metadata": {},
   "outputs": [
    {
     "data": {
      "text/plain": [
       "array(0.16916803)"
      ]
     },
     "execution_count": 134,
     "metadata": {},
     "output_type": "execute_result"
    }
   ],
   "source": [
    "J_total[-2]"
   ]
  },
  {
   "cell_type": "code",
   "execution_count": 135,
   "metadata": {},
   "outputs": [
    {
     "data": {
      "text/plain": [
       "1.8721933931209467e-06"
      ]
     },
     "execution_count": 135,
     "metadata": {},
     "output_type": "execute_result"
    }
   ],
   "source": [
    "J_total[-2] - J_total[-1] # Epsilon -> 0 # slop does not change "
   ]
  },
  {
   "cell_type": "code",
   "execution_count": 136,
   "metadata": {},
   "outputs": [
    {
     "data": {
      "image/png": "[encoded data removed]",
      "text/plain": [
       "<Figure size 432x288 with 1 Axes>"
      ]
     },
     "metadata": {
      "needs_background": "light"
     },
     "output_type": "display_data"
    }
   ],
   "source": [
    "plt.plot(J_total)\n",
    "plt.xlim(0,70)\n",
    "plt.show()"
   ]
  },
  {
   "cell_type": "code",
   "execution_count": 142,
   "metadata": {},
   "outputs": [],
   "source": [
    "y_train_hat = np.dot(X_train,Theta) + Beta\n",
    "y_predict   = np.dot(X_test, Theta )+ Beta"
   ]
  },
  {
   "cell_type": "code",
   "execution_count": 146,
   "metadata": {},
   "outputs": [],
   "source": [
    "MSE =((y_train - y_train_hat)**2).sum()/y_train.shape[0]\n",
    "MAE =(np.abs(y_train - y_train_hat)).sum()/y_train.shape[0]\n",
    "SSE = ((y_train - y_train_hat)**2).sum() #Sum of squared residual/sum of sqaured error\n",
    "SST = ((y_train - y_train.mean())**2).sum() #\n",
    "SSR = ((y_train_hat - y_train.mean())**2).sum() # Sum squared regression\n",
    "\n",
    "R_square = SSR/SST"
   ]
  },
  {
   "cell_type": "code",
   "execution_count": 147,
   "metadata": {},
   "outputs": [
    {
     "data": {
      "text/plain": [
       "0.33832857239276626"
      ]
     },
     "execution_count": 147,
     "metadata": {},
     "output_type": "execute_result"
    }
   ],
   "source": [
    "MSE"
   ]
  },
  {
   "cell_type": "code",
   "execution_count": 148,
   "metadata": {},
   "outputs": [
    {
     "data": {
      "text/plain": [
       "0.43094675346321987"
      ]
     },
     "execution_count": 148,
     "metadata": {},
     "output_type": "execute_result"
    }
   ],
   "source": [
    "MAE"
   ]
  },
  {
   "cell_type": "code",
   "execution_count": 149,
   "metadata": {},
   "outputs": [
    {
     "data": {
      "text/plain": [
       "147.5112575632461"
      ]
     },
     "execution_count": 149,
     "metadata": {},
     "output_type": "execute_result"
    }
   ],
   "source": [
    "SSE"
   ]
  },
  {
   "cell_type": "code",
   "execution_count": 150,
   "metadata": {},
   "outputs": [
    {
     "data": {
      "text/plain": [
       "437.734086317112"
      ]
     },
     "execution_count": 150,
     "metadata": {},
     "output_type": "execute_result"
    }
   ],
   "source": [
    "SST"
   ]
  },
  {
   "cell_type": "code",
   "execution_count": 151,
   "metadata": {},
   "outputs": [
    {
     "data": {
      "text/plain": [
       "289.12738339989386"
      ]
     },
     "execution_count": 151,
     "metadata": {},
     "output_type": "execute_result"
    }
   ],
   "source": [
    "SSR"
   ]
  },
  {
   "cell_type": "code",
   "execution_count": 152,
   "metadata": {},
   "outputs": [
    {
     "data": {
      "text/plain": [
       "0.6605091822582866"
      ]
     },
     "execution_count": 152,
     "metadata": {},
     "output_type": "execute_result"
    }
   ],
   "source": [
    "R_square"
   ]
  },
  {
   "cell_type": "code",
   "execution_count": 153,
   "metadata": {},
   "outputs": [
    {
     "data": {
      "text/plain": [
       "0.6630117183600295"
      ]
     },
     "execution_count": 153,
     "metadata": {},
     "output_type": "execute_result"
    }
   ],
   "source": [
    "1-SSE/SST"
   ]
  },
  {
   "cell_type": "code",
   "execution_count": 160,
   "metadata": {},
   "outputs": [],
   "source": [
    "R_square_adj=1-(1-R_square)*(m-1)/(m-n-1)"
   ]
  },
  {
   "cell_type": "code",
   "execution_count": 161,
   "metadata": {},
   "outputs": [
    {
     "data": {
      "text/plain": [
       "0.6492197013832652"
      ]
     },
     "execution_count": 161,
     "metadata": {},
     "output_type": "execute_result"
    }
   ],
   "source": [
    "R_square_adj"
   ]
  },
  {
   "cell_type": "code",
   "execution_count": 157,
   "metadata": {},
   "outputs": [
    {
     "data": {
      "text/plain": [
       "14"
      ]
     },
     "execution_count": 157,
     "metadata": {},
     "output_type": "execute_result"
    }
   ],
   "source": [
    "plt.scatter(X_train[:,0])"
   ]
  },
  {
   "cell_type": "code",
   "execution_count": 164,
   "metadata": {},
   "outputs": [
    {
     "data": {
      "image/png": "[encoded data removed]",
      "text/plain": [
       "<Figure size 432x288 with 1 Axes>"
      ]
     },
     "metadata": {
      "needs_background": "light"
     },
     "output_type": "display_data"
    }
   ],
   "source": [
    "plt.scatter(X_train[:,0],y_train,color='g',label='data points') #lotsize and price\n",
    "plt.scatter(X_train[:,0],y_train_hat,color='b',label='prediction')\n",
    "xmin_idx =np.argmin(X_train[:,0])\n",
    "xmax_idx =np.argmax(X_train[:,0])\n",
    "ymin = np.dot(X_train[xmin_idx],Theta) + Beta\n",
    "ymax = np.dot(X_train[xmax_idx],Theta) + Beta\n",
    "plt.plot([X_train[xmin_idx][0],X_train[xmax_idx][0]],[ymin[0],ymax[0]],c='r',label='train_predict')\n",
    "plt.plot([X_train[xmin_idx][0],X_train[xmax_idx][0]],[y_train[xmin_idx],y_train[xmax_idx]],c='orange',label='orig data')\n",
    "\n",
    "\n",
    "plt.grid()\n",
    "plt.legend()\n",
    "plt.show()\n"
   ]
  },
  {
   "cell_type": "code",
   "execution_count": 168,
   "metadata": {},
   "outputs": [
    {
     "data": {
      "image/png": "[encoded data removed]",
      "text/plain": [
       "<Figure size 432x288 with 1 Axes>"
      ]
     },
     "metadata": {
      "needs_background": "light"
     },
     "output_type": "display_data"
    }
   ],
   "source": [
    "plt.hist(y_train.squeeze() - y_train_hat.squeeze(),bins=np.arange(-4,4,0.2))\n",
    "plt.grid(True)\n",
    "plt.show()"
   ]
  },
  {
   "cell_type": "code",
   "execution_count": 170,
   "metadata": {},
   "outputs": [],
   "source": [
    "p=X_train[:,0]\n",
    "l=X_train[:,1]\n",
    "b=X_train[:,2]"
   ]
  },
  {
   "cell_type": "code",
   "execution_count": 171,
   "metadata": {},
   "outputs": [],
   "source": [
    "from mpl_toolkits.mplot3d import Axes3D\n"
   ]
  },
  {
   "cell_type": "code",
   "execution_count": 172,
   "metadata": {},
   "outputs": [],
   "source": [
    "%matplotlib notebook"
   ]
  },
  {
   "cell_type": "code",
   "execution_count": 173,
   "metadata": {},
   "outputs": [
    {
     "data": {
      "application/javascript": [
       "/* Put everything inside the global mpl namespace */\n",
       "window.mpl = {};\n",
       "\n",
       "\n",
       "mpl.get_websocket_type = function() {\n",
       "    if (typeof(WebSocket) !== 'undefined') {\n",
       "        return WebSocket;\n",
       "    } else if (typeof(MozWebSocket) !== 'undefined') {\n",
       "        return MozWebSocket;\n",
       "    } else {\n",
       "        alert('Your browser does not have WebSocket support. ' +\n",
       "              'Please try Chrome, Safari or Firefox ≥ 6. ' +\n",
       "              'Firefox 4 and 5 are also supported but you ' +\n",
       "              'have to enable WebSockets in about:config.');\n",
       "    };\n",
       "}\n",
       "\n",
       "mpl.figure = function(figure_id, websocket, ondownload, parent_element) {\n",
       "    this.id = figure_id;\n",
       "\n",
       "    this.ws = websocket;\n",
       "\n",
       "    this.supports_binary = (this.ws.binaryType != undefined);\n",
       "\n",
       "    if (!this.supports_binary) {\n",
       "        var warnings = document.getElementById(\"mpl-warnings\");\n",
       "        if (warnings) {\n",
       "            warnings.style.display = 'block';\n",
       "            warnings.textContent = (\n",
       "                \"This browser does not support binary websocket messages. \" +\n",
       "                    \"Performance may be slow.\");\n",
       "        }\n",
       "    }\n",
       "\n",
       "    this.imageObj = new Image();\n",
       "\n",
       "    this.context = undefined;\n",
       "    this.message = undefined;\n",
       "    this.canvas = undefined;\n",
       "    this.rubberband_canvas = undefined;\n",
       "    this.rubberband_context = undefined;\n",
       "    this.format_dropdown = undefined;\n",
       "\n",
       "    this.image_mode = 'full';\n",
       "\n",
       "    this.root = $('<div/>');\n",
       "    this._root_extra_style(this.root)\n",
       "    this.root.attr('style', 'display: inline-block');\n",
       "\n",
       "    $(parent_element).append(this.root);\n",
       "\n",
       "    this._init_header(this);\n",
       "    this._init_canvas(this);\n",
       "    this._init_toolbar(this);\n",
       "\n",
       "    var fig = this;\n",
       "\n",
       "    this.waiting = false;\n",
       "\n",
       "    this.ws.onopen =  function () {\n",
       "            fig.send_message(\"supports_binary\", {value: fig.supports_binary});\n",
       "            fig.send_message(\"send_image_mode\", {});\n",
       "            if (mpl.ratio != 1) {\n",
       "                fig.send_message(\"set_dpi_ratio\", {'dpi_ratio': mpl.ratio});\n",
       "            }\n",
       "            fig.send_message(\"refresh\", {});\n",
       "        }\n",
       "\n",
       "    this.imageObj.onload = function() {\n",
       "            if (fig.image_mode == 'full') {\n",
       "                // Full images could contain transparency (where diff images\n",
       "                // almost always do), so we need to clear the canvas so that\n",
       "                // there is no ghosting.\n",
       "                fig.context.clearRect(0, 0, fig.canvas.width, fig.canvas.height);\n",
       "            }\n",
       "            fig.context.drawImage(fig.imageObj, 0, 0);\n",
       "        };\n",
       "\n",
       "    this.imageObj.onunload = function() {\n",
       "        fig.ws.close();\n",
       "    }\n",
       "\n",
       "    this.ws.onmessage = this._make_on_message_function(this);\n",
       "\n",
       "    this.ondownload = ondownload;\n",
       "}\n",
       "\n",
       "mpl.figure.prototype._init_header = function() {\n",
       "    var titlebar = $(\n",
       "        '<div class=\"ui-dialog-titlebar ui-widget-header ui-corner-all ' +\n",
       "        'ui-helper-clearfix\"/>');\n",
       "    var titletext = $(\n",
       "        '<div class=\"ui-dialog-title\" style=\"width: 100%; ' +\n",
       "        'text-align: center; padding: 3px;\"/>');\n",
       "    titlebar.append(titletext)\n",
       "    this.root.append(titlebar);\n",
       "    this.header = titletext[0];\n",
       "}\n",
       "\n",
       "\n",
       "\n",
       "mpl.figure.prototype._canvas_extra_style = function(canvas_div) {\n",
       "\n",
       "}\n",
       "\n",
       "\n",
       "mpl.figure.prototype._root_extra_style = function(canvas_div) {\n",
       "\n",
       "}\n",
       "\n",
       "mpl.figure.prototype._init_canvas = function() {\n",
       "    var fig = this;\n",
       "\n",
       "    var canvas_div = $('<div/>');\n",
       "\n",
       "    canvas_div.attr('style', 'position: relative; clear: both; outline: 0');\n",
       "\n",
       "    function canvas_keyboard_event(event) {\n",
       "        return fig.key_event(event, event['data']);\n",
       "    }\n",
       "\n",
       "    canvas_div.keydown('key_press', canvas_keyboard_event);\n",
       "    canvas_div.keyup('key_release', canvas_keyboard_event);\n",
       "    this.canvas_div = canvas_div\n",
       "    this._canvas_extra_style(canvas_div)\n",
       "    this.root.append(canvas_div);\n",
       "\n",
       "    var canvas = $('<canvas/>');\n",
       "    canvas.addClass('mpl-canvas');\n",
       "    canvas.attr('style', \"left: 0; top: 0; z-index: 0; outline: 0\")\n",
       "\n",
       "    this.canvas = canvas[0];\n",
       "    this.context = canvas[0].getContext(\"2d\");\n",
       "\n",
       "    var backingStore = this.context.backingStorePixelRatio ||\n",
       "\tthis.context.webkitBackingStorePixelRatio ||\n",
       "\tthis.context.mozBackingStorePixelRatio ||\n",
       "\tthis.context.msBackingStorePixelRatio ||\n",
       "\tthis.context.oBackingStorePixelRatio ||\n",
       "\tthis.context.backingStorePixelRatio || 1;\n",
       "\n",
       "    mpl.ratio = (window.devicePixelRatio || 1) / backingStore;\n",
       "\n",
       "    var rubberband = $('<canvas/>');\n",
       "    rubberband.attr('style', \"position: absolute; left: 0; top: 0; z-index: 1;\")\n",
       "\n",
       "    var pass_mouse_events = true;\n",
       "\n",
       "    canvas_div.resizable({\n",
       "        start: function(event, ui) {\n",
       "            pass_mouse_events = false;\n",
       "        },\n",
       "        resize: function(event, ui) {\n",
       "            fig.request_resize(ui.size.width, ui.size.height);\n",
       "        },\n",
       "        stop: function(event, ui) {\n",
       "            pass_mouse_events = true;\n",
       "            fig.request_resize(ui.size.width, ui.size.height);\n",
       "        },\n",
       "    });\n",
       "\n",
       "    function mouse_event_fn(event) {\n",
       "        if (pass_mouse_events)\n",
       "            return fig.mouse_event(event, event['data']);\n",
       "    }\n",
       "\n",
       "    rubberband.mousedown('button_press', mouse_event_fn);\n",
       "    rubberband.mouseup('button_release', mouse_event_fn);\n",
       "    // Throttle sequential mouse events to 1 every 20ms.\n",
       "    rubberband.mousemove('motion_notify', mouse_event_fn);\n",
       "\n",
       "    rubberband.mouseenter('figure_enter', mouse_event_fn);\n",
       "    rubberband.mouseleave('figure_leave', mouse_event_fn);\n",
       "\n",
       "    canvas_div.on(\"wheel\", function (event) {\n",
       "        event = event.originalEvent;\n",
       "        event['data'] = 'scroll'\n",
       "        if (event.deltaY < 0) {\n",
       "            event.step = 1;\n",
       "        } else {\n",
       "            event.step = -1;\n",
       "        }\n",
       "        mouse_event_fn(event);\n",
       "    });\n",
       "\n",
       "    canvas_div.append(canvas);\n",
       "    canvas_div.append(rubberband);\n",
       "\n",
       "    this.rubberband = rubberband;\n",
       "    this.rubberband_canvas = rubberband[0];\n",
       "    this.rubberband_context = rubberband[0].getContext(\"2d\");\n",
       "    this.rubberband_context.strokeStyle = \"#000000\";\n",
       "\n",
       "    this._resize_canvas = function(width, height) {\n",
       "        // Keep the size of the canvas, canvas container, and rubber band\n",
       "        // canvas in synch.\n",
       "        canvas_div.css('width', width)\n",
       "        canvas_div.css('height', height)\n",
       "\n",
       "        canvas.attr('width', width * mpl.ratio);\n",
       "        canvas.attr('height', height * mpl.ratio);\n",
       "        canvas.attr('style', 'width: ' + width + 'px; height: ' + height + 'px;');\n",
       "\n",
       "        rubberband.attr('width', width);\n",
       "        rubberband.attr('height', height);\n",
       "    }\n",
       "\n",
       "    // Set the figure to an initial 600x600px, this will subsequently be updated\n",
       "    // upon first draw.\n",
       "    this._resize_canvas(600, 600);\n",
       "\n",
       "    // Disable right mouse context menu.\n",
       "    $(this.rubberband_canvas).bind(\"contextmenu\",function(e){\n",
       "        return false;\n",
       "    });\n",
       "\n",
       "    function set_focus () {\n",
       "        canvas.focus();\n",
       "        canvas_div.focus();\n",
       "    }\n",
       "\n",
       "    window.setTimeout(set_focus, 100);\n",
       "}\n",
       "\n",
       "mpl.figure.prototype._init_toolbar = function() {\n",
       "    var fig = this;\n",
       "\n",
       "    var nav_element = $('<div/>');\n",
       "    nav_element.attr('style', 'width: 100%');\n",
       "    this.root.append(nav_element);\n",
       "\n",
       "    // Define a callback function for later on.\n",
       "    function toolbar_event(event) {\n",
       "        return fig.toolbar_button_onclick(event['data']);\n",
       "    }\n",
       "    function toolbar_mouse_event(event) {\n",
       "        return fig.toolbar_button_onmouseover(event['data']);\n",
       "    }\n",
       "\n",
       "    for(var toolbar_ind in mpl.toolbar_items) {\n",
       "        var name = mpl.toolbar_items[toolbar_ind][0];\n",
       "        var tooltip = mpl.toolbar_items[toolbar_ind][1];\n",
       "        var image = mpl.toolbar_items[toolbar_ind][2];\n",
       "        var method_name = mpl.toolbar_items[toolbar_ind][3];\n",
       "\n",
       "        if (!name) {\n",
       "            // put a spacer in here.\n",
       "            continue;\n",
       "        }\n",
       "        var button = $('<button/>');\n",
       "        button.addClass('ui-button ui-widget ui-state-default ui-corner-all ' +\n",
       "                        'ui-button-icon-only');\n",
       "        button.attr('role', 'button');\n",
       "        button.attr('aria-disabled', 'false');\n",
       "        button.click(method_name, toolbar_event);\n",
       "        button.mouseover(tooltip, toolbar_mouse_event);\n",
       "\n",
       "        var icon_img = $('<span/>');\n",
       "        icon_img.addClass('ui-button-icon-primary ui-icon');\n",
       "        icon_img.addClass(image);\n",
       "        icon_img.addClass('ui-corner-all');\n",
       "\n",
       "        var tooltip_span = $('<span/>');\n",
       "        tooltip_span.addClass('ui-button-text');\n",
       "        tooltip_span.html(tooltip);\n",
       "\n",
       "        button.append(icon_img);\n",
       "        button.append(tooltip_span);\n",
       "\n",
       "        nav_element.append(button);\n",
       "    }\n",
       "\n",
       "    var fmt_picker_span = $('<span/>');\n",
       "\n",
       "    var fmt_picker = $('<select/>');\n",
       "    fmt_picker.addClass('mpl-toolbar-option ui-widget ui-widget-content');\n",
       "    fmt_picker_span.append(fmt_picker);\n",
       "    nav_element.append(fmt_picker_span);\n",
       "    this.format_dropdown = fmt_picker[0];\n",
       "\n",
       "    for (var ind in mpl.extensions) {\n",
       "        var fmt = mpl.extensions[ind];\n",
       "        var option = $(\n",
       "            '<option/>', {selected: fmt === mpl.default_extension}).html(fmt);\n",
       "        fmt_picker.append(option);\n",
       "    }\n",
       "\n",
       "    // Add hover states to the ui-buttons\n",
       "    $( \".ui-button\" ).hover(\n",
       "        function() { $(this).addClass(\"ui-state-hover\");},\n",
       "        function() { $(this).removeClass(\"ui-state-hover\");}\n",
       "    );\n",
       "\n",
       "    var status_bar = $('<span class=\"mpl-message\"/>');\n",
       "    nav_element.append(status_bar);\n",
       "    this.message = status_bar[0];\n",
       "}\n",
       "\n",
       "mpl.figure.prototype.request_resize = function(x_pixels, y_pixels) {\n",
       "    // Request matplotlib to resize the figure. Matplotlib will then trigger a resize in the client,\n",
       "    // which will in turn request a refresh of the image.\n",
       "    this.send_message('resize', {'width': x_pixels, 'height': y_pixels});\n",
       "}\n",
       "\n",
       "mpl.figure.prototype.send_message = function(type, properties) {\n",
       "    properties['type'] = type;\n",
       "    properties['figure_id'] = this.id;\n",
       "    this.ws.send(JSON.stringify(properties));\n",
       "}\n",
       "\n",
       "mpl.figure.prototype.send_draw_message = function() {\n",
       "    if (!this.waiting) {\n",
       "        this.waiting = true;\n",
       "        this.ws.send(JSON.stringify({type: \"draw\", figure_id: this.id}));\n",
       "    }\n",
       "}\n",
       "\n",
       "\n",
       "mpl.figure.prototype.handle_save = function(fig, msg) {\n",
       "    var format_dropdown = fig.format_dropdown;\n",
       "    var format = format_dropdown.options[format_dropdown.selectedIndex].value;\n",
       "    fig.ondownload(fig, format);\n",
       "}\n",
       "\n",
       "\n",
       "mpl.figure.prototype.handle_resize = function(fig, msg) {\n",
       "    var size = msg['size'];\n",
       "    if (size[0] != fig.canvas.width || size[1] != fig.canvas.height) {\n",
       "        fig._resize_canvas(size[0], size[1]);\n",
       "        fig.send_message(\"refresh\", {});\n",
       "    };\n",
       "}\n",
       "\n",
       "mpl.figure.prototype.handle_rubberband = function(fig, msg) {\n",
       "    var x0 = msg['x0'] / mpl.ratio;\n",
       "    var y0 = (fig.canvas.height - msg['y0']) / mpl.ratio;\n",
       "    var x1 = msg['x1'] / mpl.ratio;\n",
       "    var y1 = (fig.canvas.height - msg['y1']) / mpl.ratio;\n",
       "    x0 = Math.floor(x0) + 0.5;\n",
       "    y0 = Math.floor(y0) + 0.5;\n",
       "    x1 = Math.floor(x1) + 0.5;\n",
       "    y1 = Math.floor(y1) + 0.5;\n",
       "    var min_x = Math.min(x0, x1);\n",
       "    var min_y = Math.min(y0, y1);\n",
       "    var width = Math.abs(x1 - x0);\n",
       "    var height = Math.abs(y1 - y0);\n",
       "\n",
       "    fig.rubberband_context.clearRect(\n",
       "        0, 0, fig.canvas.width / mpl.ratio, fig.canvas.height / mpl.ratio);\n",
       "\n",
       "    fig.rubberband_context.strokeRect(min_x, min_y, width, height);\n",
       "}\n",
       "\n",
       "mpl.figure.prototype.handle_figure_label = function(fig, msg) {\n",
       "    // Updates the figure title.\n",
       "    fig.header.textContent = msg['label'];\n",
       "}\n",
       "\n",
       "mpl.figure.prototype.handle_cursor = function(fig, msg) {\n",
       "    var cursor = msg['cursor'];\n",
       "    switch(cursor)\n",
       "    {\n",
       "    case 0:\n",
       "        cursor = 'pointer';\n",
       "        break;\n",
       "    case 1:\n",
       "        cursor = 'default';\n",
       "        break;\n",
       "    case 2:\n",
       "        cursor = 'crosshair';\n",
       "        break;\n",
       "    case 3:\n",
       "        cursor = 'move';\n",
       "        break;\n",
       "    }\n",
       "    fig.rubberband_canvas.style.cursor = cursor;\n",
       "}\n",
       "\n",
       "mpl.figure.prototype.handle_message = function(fig, msg) {\n",
       "    fig.message.textContent = msg['message'];\n",
       "}\n",
       "\n",
       "mpl.figure.prototype.handle_draw = function(fig, msg) {\n",
       "    // Request the server to send over a new figure.\n",
       "    fig.send_draw_message();\n",
       "}\n",
       "\n",
       "mpl.figure.prototype.handle_image_mode = function(fig, msg) {\n",
       "    fig.image_mode = msg['mode'];\n",
       "}\n",
       "\n",
       "mpl.figure.prototype.updated_canvas_event = function() {\n",
       "    // Called whenever the canvas gets updated.\n",
       "    this.send_message(\"ack\", {});\n",
       "}\n",
       "\n",
       "// A function to construct a web socket function for onmessage handling.\n",
       "// Called in the figure constructor.\n",
       "mpl.figure.prototype._make_on_message_function = function(fig) {\n",
       "    return function socket_on_message(evt) {\n",
       "        if (evt.data instanceof Blob) {\n",
       "            /* FIXME: We get \"Resource interpreted as Image but\n",
       "             * transferred with MIME type text/plain:\" errors on\n",
       "             * Chrome.  But how to set the MIME type?  It doesn't seem\n",
       "             * to be part of the websocket stream */\n",
       "            evt.data.type = \"image/png\";\n",
       "\n",
       "            /* Free the memory for the previous frames */\n",
       "            if (fig.imageObj.src) {\n",
       "                (window.URL || window.webkitURL).revokeObjectURL(\n",
       "                    fig.imageObj.src);\n",
       "            }\n",
       "\n",
       "            fig.imageObj.src = (window.URL || window.webkitURL).createObjectURL(\n",
       "                evt.data);\n",
       "            fig.updated_canvas_event();\n",
       "            fig.waiting = false;\n",
       "            return;\n",
       "        }\n",
       "        else if (typeof evt.data === 'string' && evt.data.slice(0, 21) == \"data:image/png;base64\") {\n",
       "            fig.imageObj.src = evt.data;\n",
       "            fig.updated_canvas_event();\n",
       "            fig.waiting = false;\n",
       "            return;\n",
       "        }\n",
       "\n",
       "        var msg = JSON.parse(evt.data);\n",
       "        var msg_type = msg['type'];\n",
       "\n",
       "        // Call the  \"handle_{type}\" callback, which takes\n",
       "        // the figure and JSON message as its only arguments.\n",
       "        try {\n",
       "            var callback = fig[\"handle_\" + msg_type];\n",
       "        } catch (e) {\n",
       "            console.log(\"No handler for the '\" + msg_type + \"' message type: \", msg);\n",
       "            return;\n",
       "        }\n",
       "\n",
       "        if (callback) {\n",
       "            try {\n",
       "                // console.log(\"Handling '\" + msg_type + \"' message: \", msg);\n",
       "                callback(fig, msg);\n",
       "            } catch (e) {\n",
       "                console.log(\"Exception inside the 'handler_\" + msg_type + \"' callback:\", e, e.stack, msg);\n",
       "            }\n",
       "        }\n",
       "    };\n",
       "}\n",
       "\n",
       "// from http://stackoverflow.com/questions/1114465/getting-mouse-location-in-canvas\n",
       "mpl.findpos = function(e) {\n",
       "    //this section is from http://www.quirksmode.org/js/events_properties.html\n",
       "    var targ;\n",
       "    if (!e)\n",
       "        e = window.event;\n",
       "    if (e.target)\n",
       "        targ = e.target;\n",
       "    else if (e.srcElement)\n",
       "        targ = e.srcElement;\n",
       "    if (targ.nodeType == 3) // defeat Safari bug\n",
       "        targ = targ.parentNode;\n",
       "\n",
       "    // jQuery normalizes the pageX and pageY\n",
       "    // pageX,Y are the mouse positions relative to the document\n",
       "    // offset() returns the position of the element relative to the document\n",
       "    var x = e.pageX - $(targ).offset().left;\n",
       "    var y = e.pageY - $(targ).offset().top;\n",
       "\n",
       "    return {\"x\": x, \"y\": y};\n",
       "};\n",
       "\n",
       "/*\n",
       " * return a copy of an object with only non-object keys\n",
       " * we need this to avoid circular references\n",
       " * http://stackoverflow.com/a/24161582/3208463\n",
       " */\n",
       "function simpleKeys (original) {\n",
       "  return Object.keys(original).reduce(function (obj, key) {\n",
       "    if (typeof original[key] !== 'object')\n",
       "        obj[key] = original[key]\n",
       "    return obj;\n",
       "  }, {});\n",
       "}\n",
       "\n",
       "mpl.figure.prototype.mouse_event = function(event, name) {\n",
       "    var canvas_pos = mpl.findpos(event)\n",
       "\n",
       "    if (name === 'button_press')\n",
       "    {\n",
       "        this.canvas.focus();\n",
       "        this.canvas_div.focus();\n",
       "    }\n",
       "\n",
       "    var x = canvas_pos.x * mpl.ratio;\n",
       "    var y = canvas_pos.y * mpl.ratio;\n",
       "\n",
       "    this.send_message(name, {x: x, y: y, button: event.button,\n",
       "                             step: event.step,\n",
       "                             guiEvent: simpleKeys(event)});\n",
       "\n",
       "    /* This prevents the web browser from automatically changing to\n",
       "     * the text insertion cursor when the button is pressed.  We want\n",
       "     * to control all of the cursor setting manually through the\n",
       "     * 'cursor' event from matplotlib */\n",
       "    event.preventDefault();\n",
       "    return false;\n",
       "}\n",
       "\n",
       "mpl.figure.prototype._key_event_extra = function(event, name) {\n",
       "    // Handle any extra behaviour associated with a key event\n",
       "}\n",
       "\n",
       "mpl.figure.prototype.key_event = function(event, name) {\n",
       "\n",
       "    // Prevent repeat events\n",
       "    if (name == 'key_press')\n",
       "    {\n",
       "        if (event.which === this._key)\n",
       "            return;\n",
       "        else\n",
       "            this._key = event.which;\n",
       "    }\n",
       "    if (name == 'key_release')\n",
       "        this._key = null;\n",
       "\n",
       "    var value = '';\n",
       "    if (event.ctrlKey && event.which != 17)\n",
       "        value += \"ctrl+\";\n",
       "    if (event.altKey && event.which != 18)\n",
       "        value += \"alt+\";\n",
       "    if (event.shiftKey && event.which != 16)\n",
       "        value += \"shift+\";\n",
       "\n",
       "    value += 'k';\n",
       "    value += event.which.toString();\n",
       "\n",
       "    this._key_event_extra(event, name);\n",
       "\n",
       "    this.send_message(name, {key: value,\n",
       "                             guiEvent: simpleKeys(event)});\n",
       "    return false;\n",
       "}\n",
       "\n",
       "mpl.figure.prototype.toolbar_button_onclick = function(name) {\n",
       "    if (name == 'download') {\n",
       "        this.handle_save(this, null);\n",
       "    } else {\n",
       "        this.send_message(\"toolbar_button\", {name: name});\n",
       "    }\n",
       "};\n",
       "\n",
       "mpl.figure.prototype.toolbar_button_onmouseover = function(tooltip) {\n",
       "    this.message.textContent = tooltip;\n",
       "};\n",
       "mpl.toolbar_items = [[\"Home\", \"Reset original view\", \"fa fa-home icon-home\", \"home\"], [\"Back\", \"Back to previous view\", \"fa fa-arrow-left icon-arrow-left\", \"back\"], [\"Forward\", \"Forward to next view\", \"fa fa-arrow-right icon-arrow-right\", \"forward\"], [\"\", \"\", \"\", \"\"], [\"Pan\", \"Pan axes with left mouse, zoom with right\", \"fa fa-arrows icon-move\", \"pan\"], [\"Zoom\", \"Zoom to rectangle\", \"fa fa-square-o icon-check-empty\", \"zoom\"], [\"\", \"\", \"\", \"\"], [\"Download\", \"Download plot\", \"fa fa-floppy-o icon-save\", \"download\"]];\n",
       "\n",
       "mpl.extensions = [\"eps\", \"jpeg\", \"pdf\", \"png\", \"ps\", \"raw\", \"svg\", \"tif\"];\n",
       "\n",
       "mpl.default_extension = \"png\";var comm_websocket_adapter = function(comm) {\n",
       "    // Create a \"websocket\"-like object which calls the given IPython comm\n",
       "    // object with the appropriate methods. Currently this is a non binary\n",
       "    // socket, so there is still some room for performance tuning.\n",
       "    var ws = {};\n",
       "\n",
       "    ws.close = function() {\n",
       "        comm.close()\n",
       "    };\n",
       "    ws.send = function(m) {\n",
       "        //console.log('sending', m);\n",
       "        comm.send(m);\n",
       "    };\n",
       "    // Register the callback with on_msg.\n",
       "    comm.on_msg(function(msg) {\n",
       "        //console.log('receiving', msg['content']['data'], msg);\n",
       "        // Pass the mpl event to the overridden (by mpl) onmessage function.\n",
       "        ws.onmessage(msg['content']['data'])\n",
       "    });\n",
       "    return ws;\n",
       "}\n",
       "\n",
       "mpl.mpl_figure_comm = function(comm, msg) {\n",
       "    // This is the function which gets called when the mpl process\n",
       "    // starts-up an IPython Comm through the \"matplotlib\" channel.\n",
       "\n",
       "    var id = msg.content.data.id;\n",
       "    // Get hold of the div created by the display call when the Comm\n",
       "    // socket was opened in Python.\n",
       "    var element = $(\"#\" + id);\n",
       "    var ws_proxy = comm_websocket_adapter(comm)\n",
       "\n",
       "    function ondownload(figure, format) {\n",
       "        window.open(figure.imageObj.src);\n",
       "    }\n",
       "\n",
       "    var fig = new mpl.figure(id, ws_proxy,\n",
       "                           ondownload,\n",
       "                           element.get(0));\n",
       "\n",
       "    // Call onopen now - mpl needs it, as it is assuming we've passed it a real\n",
       "    // web socket which is closed, not our websocket->open comm proxy.\n",
       "    ws_proxy.onopen();\n",
       "\n",
       "    fig.parent_element = element.get(0);\n",
       "    fig.cell_info = mpl.find_output_cell(\"<div id='\" + id + \"'></div>\");\n",
       "    if (!fig.cell_info) {\n",
       "        console.error(\"Failed to find cell for figure\", id, fig);\n",
       "        return;\n",
       "    }\n",
       "\n",
       "    var output_index = fig.cell_info[2]\n",
       "    var cell = fig.cell_info[0];\n",
       "\n",
       "};\n",
       "\n",
       "mpl.figure.prototype.handle_close = function(fig, msg) {\n",
       "    var width = fig.canvas.width/mpl.ratio\n",
       "    fig.root.unbind('remove')\n",
       "\n",
       "    // Update the output cell to use the data from the current canvas.\n",
       "    fig.push_to_output();\n",
       "    var dataURL = fig.canvas.toDataURL();\n",
       "    // Re-enable the keyboard manager in IPython - without this line, in FF,\n",
       "    // the notebook keyboard shortcuts fail.\n",
       "    IPython.keyboard_manager.enable()\n",
       "    $(fig.parent_element).html('<img src=\"' + dataURL + '\" width=\"' + width + '\">');\n",
       "    fig.close_ws(fig, msg);\n",
       "}\n",
       "\n",
       "mpl.figure.prototype.close_ws = function(fig, msg){\n",
       "    fig.send_message('closing', msg);\n",
       "    // fig.ws.close()\n",
       "}\n",
       "\n",
       "mpl.figure.prototype.push_to_output = function(remove_interactive) {\n",
       "    // Turn the data on the canvas into data in the output cell.\n",
       "    var width = this.canvas.width/mpl.ratio\n",
       "    var dataURL = this.canvas.toDataURL();\n",
       "    this.cell_info[1]['text/html'] = '<img src=\"' + dataURL + '\" width=\"' + width + '\">';\n",
       "}\n",
       "\n",
       "mpl.figure.prototype.updated_canvas_event = function() {\n",
       "    // Tell IPython that the notebook contents must change.\n",
       "    IPython.notebook.set_dirty(true);\n",
       "    this.send_message(\"ack\", {});\n",
       "    var fig = this;\n",
       "    // Wait a second, then push the new image to the DOM so\n",
       "    // that it is saved nicely (might be nice to debounce this).\n",
       "    setTimeout(function () { fig.push_to_output() }, 1000);\n",
       "}\n",
       "\n",
       "mpl.figure.prototype._init_toolbar = function() {\n",
       "    var fig = this;\n",
       "\n",
       "    var nav_element = $('<div/>');\n",
       "    nav_element.attr('style', 'width: 100%');\n",
       "    this.root.append(nav_element);\n",
       "\n",
       "    // Define a callback function for later on.\n",
       "    function toolbar_event(event) {\n",
       "        return fig.toolbar_button_onclick(event['data']);\n",
       "    }\n",
       "    function toolbar_mouse_event(event) {\n",
       "        return fig.toolbar_button_onmouseover(event['data']);\n",
       "    }\n",
       "\n",
       "    for(var toolbar_ind in mpl.toolbar_items){\n",
       "        var name = mpl.toolbar_items[toolbar_ind][0];\n",
       "        var tooltip = mpl.toolbar_items[toolbar_ind][1];\n",
       "        var image = mpl.toolbar_items[toolbar_ind][2];\n",
       "        var method_name = mpl.toolbar_items[toolbar_ind][3];\n",
       "\n",
       "        if (!name) { continue; };\n",
       "\n",
       "        var button = $('<button class=\"btn btn-default\" href=\"#\" title=\"' + name + '\"><i class=\"fa ' + image + ' fa-lg\"></i></button>');\n",
       "        button.click(method_name, toolbar_event);\n",
       "        button.mouseover(tooltip, toolbar_mouse_event);\n",
       "        nav_element.append(button);\n",
       "    }\n",
       "\n",
       "    // Add the status bar.\n",
       "    var status_bar = $('<span class=\"mpl-message\" style=\"text-align:right; float: right;\"/>');\n",
       "    nav_element.append(status_bar);\n",
       "    this.message = status_bar[0];\n",
       "\n",
       "    // Add the close button to the window.\n",
       "    var buttongrp = $('<div class=\"btn-group inline pull-right\"></div>');\n",
       "    var button = $('<button class=\"btn btn-mini btn-primary\" href=\"#\" title=\"Stop Interaction\"><i class=\"fa fa-power-off icon-remove icon-large\"></i></button>');\n",
       "    button.click(function (evt) { fig.handle_close(fig, {}); } );\n",
       "    button.mouseover('Stop Interaction', toolbar_mouse_event);\n",
       "    buttongrp.append(button);\n",
       "    var titlebar = this.root.find($('.ui-dialog-titlebar'));\n",
       "    titlebar.prepend(buttongrp);\n",
       "}\n",
       "\n",
       "mpl.figure.prototype._root_extra_style = function(el){\n",
       "    var fig = this\n",
       "    el.on(\"remove\", function(){\n",
       "\tfig.close_ws(fig, {});\n",
       "    });\n",
       "}\n",
       "\n",
       "mpl.figure.prototype._canvas_extra_style = function(el){\n",
       "    // this is important to make the div 'focusable\n",
       "    el.attr('tabindex', 0)\n",
       "    // reach out to IPython and tell the keyboard manager to turn it's self\n",
       "    // off when our div gets focus\n",
       "\n",
       "    // location in version 3\n",
       "    if (IPython.notebook.keyboard_manager) {\n",
       "        IPython.notebook.keyboard_manager.register_events(el);\n",
       "    }\n",
       "    else {\n",
       "        // location in version 2\n",
       "        IPython.keyboard_manager.register_events(el);\n",
       "    }\n",
       "\n",
       "}\n",
       "\n",
       "mpl.figure.prototype._key_event_extra = function(event, name) {\n",
       "    var manager = IPython.notebook.keyboard_manager;\n",
       "    if (!manager)\n",
       "        manager = IPython.keyboard_manager;\n",
       "\n",
       "    // Check for shift+enter\n",
       "    if (event.shiftKey && event.which == 13) {\n",
       "        this.canvas_div.blur();\n",
       "        // select the cell after this one\n",
       "        var index = IPython.notebook.find_cell_index(this.cell_info[0]);\n",
       "        IPython.notebook.select(index + 1);\n",
       "    }\n",
       "}\n",
       "\n",
       "mpl.figure.prototype.handle_save = function(fig, msg) {\n",
       "    fig.ondownload(fig, null);\n",
       "}\n",
       "\n",
       "\n",
       "mpl.find_output_cell = function(html_output) {\n",
       "    // Return the cell and output element which can be found *uniquely* in the notebook.\n",
       "    // Note - this is a bit hacky, but it is done because the \"notebook_saving.Notebook\"\n",
       "    // IPython event is triggered only after the cells have been serialised, which for\n",
       "    // our purposes (turning an active figure into a static one), is too late.\n",
       "    var cells = IPython.notebook.get_cells();\n",
       "    var ncells = cells.length;\n",
       "    for (var i=0; i<ncells; i++) {\n",
       "        var cell = cells[i];\n",
       "        if (cell.cell_type === 'code'){\n",
       "            for (var j=0; j<cell.output_area.outputs.length; j++) {\n",
       "                var data = cell.output_area.outputs[j];\n",
       "                if (data.data) {\n",
       "                    // IPython >= 3 moved mimebundle to data attribute of output\n",
       "                    data = data.data;\n",
       "                }\n",
       "                if (data['text/html'] == html_output) {\n",
       "                    return [cell, data, j];\n",
       "                }\n",
       "            }\n",
       "        }\n",
       "    }\n",
       "}\n",
       "\n",
       "// Register the function which deals with the matplotlib target/channel.\n",
       "// The kernel may be null if the page has been refreshed.\n",
       "if (IPython.notebook.kernel != null) {\n",
       "    IPython.notebook.kernel.comm_manager.register_target('matplotlib', mpl.mpl_figure_comm);\n",
       "}\n"
      ],
      "text/plain": [
       "<IPython.core.display.Javascript object>"
      ]
     },
     "metadata": {},
     "output_type": "display_data"
    },
    {
     "data": {
      "text/html": [
       "<img src=\"data:image/png;base64,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\" width=\"639.9979877535192\">"
      ],
      "text/plain": [
       "<IPython.core.display.HTML object>"
      ]
     },
     "metadata": {},
     "output_type": "display_data"
    }
   ],
   "source": [
    "fig=plt.figure()\n",
    "ax=Axes3D(fig)\n",
    "ax.scatter(l,b,p)\n",
    "plt.show()"
   ]
  },
  {
   "cell_type": "code",
   "execution_count": 174,
   "metadata": {},
   "outputs": [],
   "source": [
    "#3D plot of J with respect to Beta and theta_0"
   ]
  },
  {
   "cell_type": "raw",
   "metadata": {},
   "source": [
    "import numpy as np\n"
   ]
  },
  {
   "cell_type": "code",
   "execution_count": 178,
   "metadata": {},
   "outputs": [
    {
     "ename": "NameError",
     "evalue": "name 'LinearRegression' is not defined",
     "output_type": "error",
     "traceback": [
      "\u001b[1;31m---------------------------------------------------------------------------\u001b[0m",
      "\u001b[1;31mNameError\u001b[0m                                 Traceback (most recent call last)",
      "\u001b[1;32m<ipython-input-178-7fcc8e3a8ba0>\u001b[0m in \u001b[0;36m<module>\u001b[1;34m\u001b[0m\n\u001b[1;32m----> 1\u001b[1;33m \u001b[0mmodel\u001b[0m \u001b[1;33m=\u001b[0m \u001b[0mLinearRegression\u001b[0m\u001b[1;33m(\u001b[0m\u001b[1;33m)\u001b[0m\u001b[1;33m\u001b[0m\u001b[1;33m\u001b[0m\u001b[0m\n\u001b[0m\u001b[0;32m      2\u001b[0m \u001b[0mmodelfit\u001b[0m\u001b[1;33m(\u001b[0m\u001b[0mX_train\u001b[0m\u001b[1;33m,\u001b[0m\u001b[0my_train\u001b[0m\u001b[1;33m)\u001b[0m\u001b[1;33m\u001b[0m\u001b[1;33m\u001b[0m\u001b[0m\n",
      "\u001b[1;31mNameError\u001b[0m: name 'LinearRegression' is not defined"
     ]
    }
   ],
   "source": [
    "model = LinearRegression()\n",
    "modelfit(X_train,y_train)"
   ]
  },
  {
   "cell_type": "code",
   "execution_count": 179,
   "metadata": {},
   "outputs": [],
   "source": [
    "import numpy as np\n",
    "from sklearn.linear_model import LinearRegression"
   ]
  },
  {
   "cell_type": "code",
   "execution_count": 180,
   "metadata": {},
   "outputs": [],
   "source": [
    "model=LinearRegression()"
   ]
  },
  {
   "cell_type": "code",
   "execution_count": 181,
   "metadata": {},
   "outputs": [
    {
     "data": {
      "text/plain": [
       "LinearRegression(copy_X=True, fit_intercept=True, n_jobs=None, normalize=False)"
      ]
     },
     "execution_count": 181,
     "metadata": {},
     "output_type": "execute_result"
    }
   ],
   "source": [
    "model.fit(X_train,y_train)"
   ]
  },
  {
   "cell_type": "code",
   "execution_count": 182,
   "metadata": {},
   "outputs": [],
   "source": [
    "y_train_hat_new = model.predict(X_train)"
   ]
  },
  {
   "cell_type": "code",
   "execution_count": 183,
   "metadata": {},
   "outputs": [
    {
     "data": {
      "text/plain": [
       "array([[-0.44734415],\n",
       "       [-1.06755685],\n",
       "       [-0.87987698],\n",
       "       [-0.92796042],\n",
       "       [-0.44660896]])"
      ]
     },
     "execution_count": 183,
     "metadata": {},
     "output_type": "execute_result"
    }
   ],
   "source": [
    "y_train_hat[:5]"
   ]
  },
  {
   "cell_type": "code",
   "execution_count": 184,
   "metadata": {},
   "outputs": [
    {
     "data": {
      "text/plain": [
       "array([[-0.48146853],\n",
       "       [-1.06722997],\n",
       "       [-0.90929554],\n",
       "       [-0.9330624 ],\n",
       "       [-0.45855815]])"
      ]
     },
     "execution_count": 184,
     "metadata": {},
     "output_type": "execute_result"
    }
   ],
   "source": [
    "y_train_hat_new[:5]"
   ]
  },
  {
   "cell_type": "code",
   "execution_count": 186,
   "metadata": {},
   "outputs": [
    {
     "data": {
      "text/plain": [
       "array([[ 0.28119486,  0.11383883,  0.47762781, -0.19366503, -0.23678562,\n",
       "        -0.1881092 , -0.43305639, -0.46298237,  0.16788773, -0.3643899 ,\n",
       "         0.40429513, -0.36062898,  0.10867439, -0.15234054]])"
      ]
     },
     "execution_count": 186,
     "metadata": {},
     "output_type": "execute_result"
    }
   ],
   "source": [
    "model.coef_"
   ]
  },
  {
   "cell_type": "code",
   "execution_count": 187,
   "metadata": {},
   "outputs": [
    {
     "data": {
      "text/plain": [
       "array([0.47188163])"
      ]
     },
     "execution_count": 187,
     "metadata": {},
     "output_type": "execute_result"
    }
   ],
   "source": [
    "model.intercept_"
   ]
  },
  {
   "cell_type": "code",
   "execution_count": null,
   "metadata": {},
   "outputs": [],
   "source": []
  }
 ],
 "metadata": {
  "kernelspec": {
   "display_name": "Python 3",
   "language": "python",
   "name": "python3"
  },
  "language_info": {
   "codemirror_mode": {
    "name": "ipython",
    "version": 3
   },
   "file_extension": ".py",
   "mimetype": "text/x-python",
   "name": "python",
   "nbconvert_exporter": "python",
   "pygments_lexer": "ipython3",
   "version": "3.7.7"
  }
 },
 "nbformat": 4,
 "nbformat_minor": 4
}

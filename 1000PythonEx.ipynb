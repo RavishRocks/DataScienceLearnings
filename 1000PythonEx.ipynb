{
 "cells": [
  {
   "cell_type": "markdown",
   "metadata": {},
   "source": [
    "https://docs.python.org/3/tutorial/floatingpoint.html"
   ]
  },
  {
   "cell_type": "code",
   "execution_count": 2,
   "metadata": {},
   "outputs": [
    {
     "data": {
      "text/plain": [
       "False"
      ]
     },
     "execution_count": 2,
     "metadata": {},
     "output_type": "execute_result"
    }
   ],
   "source": [
    ".1 + .1 + .1 == .3\n"
   ]
  },
  {
   "cell_type": "code",
   "execution_count": 5,
   "metadata": {},
   "outputs": [
    {
     "name": "stdout",
     "output_type": "stream",
     "text": [
      "1717171717171717171717171717171717171717171717\n"
     ]
    }
   ],
   "source": [
    " width = 23 ;\n",
    " height = \"17\";\n",
    " area = width * height;\n",
    " print(area);"
   ]
  },
  {
   "cell_type": "code",
   "execution_count": 7,
   "metadata": {},
   "outputs": [
    {
     "name": "stdout",
     "output_type": "stream",
     "text": [
      "Area =  391\n"
     ]
    }
   ],
   "source": [
    " width = 23 ;\n",
    " height = 17;\n",
    " area = width * height;\n",
    " print('Area = ', area);"
   ]
  },
  {
   "cell_type": "code",
   "execution_count": 17,
   "metadata": {},
   "outputs": [
    {
     "name": "stdout",
     "output_type": "stream",
     "text": [
      "Area =  391\n",
      "Perimeter =  80\n"
     ]
    }
   ],
   "source": [
    " width = 23 ;\n",
    " height = 17;\n",
    " area = width * height;\n",
    " circumference =  2*(width+ height) ;  \n",
    "print('Area = ', area);   \n",
    "print('Perimeter = ',circumference );"
   ]
  },
  {
   "cell_type": "code",
   "execution_count": 18,
   "metadata": {},
   "outputs": [
    {
     "name": "stdout",
     "output_type": "stream",
     "text": [
      "Area =  153.86\n",
      "Perimeter =  12.56\n"
     ]
    }
   ],
   "source": [
    "rad = 7\n",
    "pi = 3.14 \n",
    "area = pi * (rad * rad) ; \n",
    "circumference = 2 * (pi * radius)\n",
    "print('Area = ', area);\n",
    "print('Perimeter = ',circumference );\n"
   ]
  },
  {
   "cell_type": "code",
   "execution_count": 19,
   "metadata": {},
   "outputs": [
    {
     "name": "stdout",
     "output_type": "stream",
     "text": [
      "C:\\ProgramData\\Anaconda3\\python.exe\n",
      "win32\n",
      "C:\\ProgramData\\Anaconda3\\lib\\site-packages\\ipykernel_launcher.py\n",
      "3\n",
      "28\n",
      "28\n",
      "24\n",
      "49\n",
      "50\n",
      "51\n",
      "59\n"
     ]
    }
   ],
   "source": [
    " import sys\n",
    "\n",
    " print( sys.executable ) # /home/gabor/venv3/bin/python\n",
    " print( sys.platform ) # linux\n",
    " print( sys.argv[0] ) # examples/basics/modules.py\n",
    " print( sys.version_info.major ) # 3\n",
    "\n",
    " print( sys.getsizeof( 1 ) ) # 28\n",
    " print( sys.getsizeof( 42 ) ) # 28\n",
    " print( sys.getsizeof( 1.0 ) ) # 24\n",
    "\n",
    " print( sys.getsizeof( \"\" ) ) # 49\n",
    " print( sys.getsizeof( \"a\" ) ) # 50\n",
    " print( sys.getsizeof( \"ab\" ) ) # 51\n",
    " print( sys.getsizeof( \"abcdefghij\" ) ) # 59"
   ]
  },
  {
   "cell_type": "code",
   "execution_count": 23,
   "metadata": {},
   "outputs": [
    {
     "name": "stdout",
     "output_type": "stream",
     "text": [
      "before\n",
      "Hello world\n",
      "after\n"
     ]
    }
   ],
   "source": [
    "def myfun():\n",
    "    print('Hello world')\n",
    "print('before')\n",
    "myfun()\n",
    "print('after')\n"
   ]
  },
  {
   "cell_type": "code",
   "execution_count": null,
   "metadata": {},
   "outputs": [],
   "source": []
  }
 ],
 "metadata": {
  "kernelspec": {
   "display_name": "Python 3",
   "language": "python",
   "name": "python3"
  },
  "language_info": {
   "codemirror_mode": {
    "name": "ipython",
    "version": 3
   },
   "file_extension": ".py",
   "mimetype": "text/x-python",
   "name": "python",
   "nbconvert_exporter": "python",
   "pygments_lexer": "ipython3",
   "version": "3.6.4"
  }
 },
 "nbformat": 4,
 "nbformat_minor": 2
}
